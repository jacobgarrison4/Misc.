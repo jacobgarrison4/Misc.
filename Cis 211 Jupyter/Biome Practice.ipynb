{
 "cells": [
  {
   "cell_type": "code",
   "execution_count": 16,
   "metadata": {
    "collapsed": false
   },
   "outputs": [],
   "source": [
    "import turtle\n",
    "import numpy as np"
   ]
  },
  {
   "cell_type": "code",
   "execution_count": 3,
   "metadata": {
    "collapsed": false
   },
   "outputs": [],
   "source": [
    "class World:\n",
    "    \n",
    "    def __init__(self, mx, my):\n",
    "        \n",
    "        self._maxX = mx\n",
    "        self._maxY = my\n",
    "        self._thingList = []\n",
    "        self._grid = np.array([None] * (self._maxX * self._maxY)).reshape(self._maxX, self._maxY)\n",
    "        self.bearCount = 0\n",
    "        self.fishCount = 0\n",
    "            \n",
    "        Bear = \"\\U0001F43B\"\n",
    "        Fish = \"\\U0001F41F\"\n",
    "        \n",
    "        self.wturtle = turtle.Turtle()\n",
    "        self.wscreen = turtle.Screen()\n",
    "        self.wscreen.setworldcoordinates(0, 0, self._maxX - 1, self._maxY - 1)\n",
    "        self.wturtle.hideturtle()\n",
    "        \n",
    "    def draw(self):\n",
    "        \n",
    "        self.wscreen.tracer(0)\n",
    "        self.wturtle.forward(self._maxX - 1)\n",
    "        self.wturtle.left(90)\n",
    "        self.wturtle.forward(self._maxY - 1)\n",
    "        self.wturtle.left(90)\n",
    "        self.wturtle.forward(self._maxX - 1)\n",
    "        self.wturtle.left(90)\n",
    "        self.wturtle.forward(self._maxY - 1)\n",
    "        self.wturtle.left(90)\n",
    "        \n",
    "        for i in range(self._maxY - 1):\n",
    "            self.wturtle.forward(self._maxX - 1)\n",
    "            self.wturtle.backward(self._maxX - 1)\n",
    "            self.wturtle.left(90)\n",
    "            self.wturtle.forward(1)\n",
    "            self.wturtle.right(90)\n",
    "        \n",
    "        self.wturtle.forward(1)\n",
    "        self.wturtle.right(90)\n",
    "        \n",
    "        for i in range(self._maxX - 2):\n",
    "            self.wturtle.forward(self._maxY - 1)\n",
    "            self.wturtle.backward(self._maxY - 1)\n",
    "            self.wturtle.left(90)\n",
    "            self.wturtle.forward(1)\n",
    "            self.wturtle.right(90)\n",
    "            \n",
    "        self.wscreen.tracer(1)\n",
    "        \n",
    "    def __getitem__(self, loc):\n",
    "        \n",
    "        return self._grid(loc)\n",
    "    \n",
    "    def __setitem__(self, loc, x):\n",
    "        \n",
    "        pass\n",
    "        \n",
    "    def freezeWorld(self):\n",
    "        \n",
    "        self.wscreen.exitonclick()\n",
    "        \n",
    "    def addThing(self, thing, x, y):\n",
    "        \n",
    "        thing.setX(x)\n",
    "        thing.setY(y)\n",
    "        self._grid[y, x] = thing\n",
    "        thing.setWorld(self)\n",
    "        self.thingList.append(thing)\n",
    "        thing.appear()\n",
    "        if isinstance(thing, Bear):\n",
    "            thing.incBears()\n",
    "        else:\n",
    "            thing.incFish()\n",
    "        \n",
    "    def delThing(self, thing):\n",
    "        \n",
    "        thing.hide()\n",
    "        self._grid[thing.getY()][thing.getX()] = None\n",
    "        self.thingList.remove(thing)\n",
    "        if isinstance(thing, Bear):\n",
    "            thing.decBears()\n",
    "        else:\n",
    "            thing.decFish()\n",
    "        \n",
    "    def moveThing(self, oldx, oldy, newx, newy):\n",
    "        \n",
    "        self._grid[newy][newx] = self._grid[oldy][oldx]\n",
    "        self._grid[oldy][oldx] = None\n",
    "        \n",
    "    def getMaxX(self):\n",
    "        \n",
    "        return self._maxX\n",
    "    \n",
    "    def getMaxY(self):\n",
    "        \n",
    "        return self._maxY\n",
    "    \n",
    "    def liveALittle(self): #chooses a random fish or bear to live during that time period\n",
    "        \n",
    "        if self.thingList != []:\n",
    "            thing = random.randrange(len(self.thingList))\n",
    "            randomthing = self.thingList[thing]\n",
    "            randomthing.liveALittle()\n",
    "            \n",
    "    def emptyLocation(self, x, y):\n",
    "        \n",
    "        if self._grid[y][x] == None:\n",
    "            return True\n",
    "        else:\n",
    "            return False\n",
    "        \n",
    "    def lookAtLocation(self, x, y):\n",
    "        \n",
    "        return self._grid[y][x]\n",
    "    \n",
    "    def getNumBears(self):\n",
    "        \n",
    "        return self.bearCount\n",
    "    \n",
    "    def getNumFish(self):\n",
    "        \n",
    "        return self.fishCount\n",
    "    \n",
    "    def incBears(self):\n",
    "        \n",
    "        self.bearCount += 1\n",
    "                    \n",
    "    def decBears(self):\n",
    "        \n",
    "        self.bearCount -= 1\n",
    "        \n",
    "    def incFish(self):\n",
    "        \n",
    "        self.fishCount += 1\n",
    "        \n",
    "    def decFish(self):\n",
    "        \n",
    "        self.fishCount -= 1\n",
    "        \n",
    "    def showCounts(self, animal):\n",
    "        \n",
    "        pass"
   ]
  },
  {
   "cell_type": "code",
   "execution_count": 7,
   "metadata": {
    "collapsed": false
   },
   "outputs": [],
   "source": [
    "class Fish:\n",
    "    \n",
    "    def __init__(self):\n",
    "        \n",
    "        self.turtle = turtle.Turtle()\n",
    "        self.turtle.up()\n",
    "        self.turtle.hideturtle()\n",
    "                \n",
    "        self.xpos = 0\n",
    "        self.ypos = 0\n",
    "        self.world = None        \n",
    "        self.breedTick = 0\n",
    "        offsetList = [(-1,1), (0,1), (1,1)\n",
    "                      (-1,0)         (1,0)\n",
    "                      (-1,-1), (0,-1), (1,-1)]\n",
    "        \n",
    "    def setX(self, newX):\n",
    "        \n",
    "        self.xpos = newX\n",
    "        \n",
    "    def setY(self, newY):\n",
    "        \n",
    "        self.ypos = newY\n",
    "        \n",
    "    def getX(self):\n",
    "        \n",
    "        return self.xpos\n",
    "    \n",
    "    def getY(self):\n",
    "        \n",
    "        return self.ypos\n",
    "    \n",
    "    def setWorld(self, aworld):\n",
    "        \n",
    "        self.world = aworld\n",
    "        \n",
    "    def appear(self):\n",
    "        \n",
    "        self.turtle.goto(self.xpos, self.ypos)\n",
    "        self.turtle.showturtle()\n",
    "        \n",
    "    def hide(self):\n",
    "        \n",
    "        self.turtle.hideturtle()\n",
    "        \n",
    "    def move(self, newX, newY):\n",
    "        \n",
    "        self.world.moveThing(self.xpos, self.ypos, newX, newY)\n",
    "        self.xpos = newX\n",
    "        self.ypos = newY\n",
    "        self.turtle.goto(self.xpos, self.ypos)\n",
    "        \n",
    "    def liveALittle(self):\n",
    "        \n",
    "        adjFish = 0\n",
    "        for offset in offsetList:\n",
    "            newx = self.xpos + offset[0]\n",
    "            newy = self.ypos + offset[1]\n",
    "            if 0 <= newx < self.world.getMaxX() and 0 <= newy < self.world.getMaxY():\n",
    "                    if (not self.world.emptyLocation(newx, newy)) and isinstance(self.world.lookAtLocation(newx, newy), Fish):\n",
    "                            adjFish += 1\n",
    "                            \n",
    "        if adjFish >= 2:\n",
    "            self.world.delThing(self)\n",
    "        else:\n",
    "            self.breedTick += 1\n",
    "            if self.breedTick >= 12:\n",
    "                self.tryToBreed()\n",
    "                \n",
    "            self.tryToMove()\n",
    "            \n",
    "    def tryToBreed(self):\n",
    "        \n",
    "        randomOffsetIndex = random.randrange(len(offsetList))\n",
    "        randomOffset = offsetList[randomOffsetIndex]\n",
    "        \n",
    "        nextx = self.xpos + randomOffset[0]\n",
    "        nexty = self.ypos + randomOffset[1]\n",
    "        \n",
    "        while not (0 <= nextx < self.world.getMaxX() and 0 <= nexty < self.world.getMaxY()):\n",
    "            ranodmOffsetIndex = random.randrange(len(offsetList))\n",
    "            randomOffset = offsetList[randomOffsetIndex]\n",
    "            nextx = self.xpos + randomOffset[0]\n",
    "            nexty = self.ypos + randomOffset[1]\n",
    "            \n",
    "        if self.world.emptyLocation(nextx, nexty):\n",
    "            childThing = Fish()\n",
    "            self.world.addThing(childThing, nextx, nexty)\n",
    "            self.breedTick = 0\n",
    "            \n",
    "    def tryToMove(self):\n",
    "        \n",
    "        randomOffsetIndex = random.randrange(len(offsetList))\n",
    "        randomOffset = offsetList[randomOffsetIndex]\n",
    "        \n",
    "        nextx = self.xpos + randomOffset[0]\n",
    "        nexty = self.ypos + randomOffset[1]\n",
    "        \n",
    "        while not (0 <= nextx < self.world.getMaxX() and 0 <= nexty < self.world.getMaxY()):\n",
    "            ranodmOffsetIndex = random.randrange(len(offsetList))\n",
    "            randomOffset = offsetList[randomOffsetIndex]\n",
    "            nextx = self.xpos + randomOffset[0]\n",
    "            nexty = self.ypos + randomOffset[1]\n",
    "            \n",
    "        if self.world.emptyLocation(nextx, nexty):\n",
    "            self.move(nextx, nexty)"
   ]
  },
  {
   "cell_type": "code",
   "execution_count": 8,
   "metadata": {
    "collapsed": false
   },
   "outputs": [],
   "source": [
    "class Bear:\n",
    "    \n",
    "    def __init__(self):\n",
    "        \n",
    "        self.turtle = turtle.Turtle()\n",
    "        self.turtle.up()\n",
    "        self.turtle.hideturtle()\n",
    "        self.turtle.shape(\"\\U0001F43B\")\n",
    "        \n",
    "        self.xpos = 0\n",
    "        self.ypos = 0\n",
    "        self.world = None\n",
    "        \n",
    "        self.breedTick = 0\n",
    "        self.starveTick = 0\n",
    "        \n",
    "    def setX(self, newX):\n",
    "        \n",
    "        self.xpos = newX\n",
    "        \n",
    "    def setY(self, newY):\n",
    "        \n",
    "        self.ypos = newY\n",
    "        \n",
    "    def getX(self):\n",
    "        \n",
    "        return self.xpos\n",
    "    \n",
    "    def getY(self):\n",
    "        \n",
    "        return self.ypos\n",
    "    \n",
    "    def setWorld(self, world):\n",
    "        \n",
    "        self.world = world\n",
    "        \n",
    "    def appear(self):\n",
    "        \n",
    "        self.turtle.goto(self.xpos, self.ypos)\n",
    "        self.turtle.showturtle()\n",
    "        \n",
    "    def hide(self):\n",
    "        \n",
    "        self.turtle.hideturtle()\n",
    "        \n",
    "    def move(self, newX, newY):\n",
    "        \n",
    "        self.world.moveThing(self.xpos, self.ypos, newX, newY)\n",
    "        self.xpos = newX\n",
    "        self.ypos = newY\n",
    "        self.turtle.goto(self.xpos, self.ypos)\n",
    "        \n",
    "    def liveALittle(self):\n",
    "        \n",
    "        self.breedTick += 1\n",
    "        if self.breedTick >= 8:\n",
    "            self.tryToBreed()\n",
    "            \n",
    "        self.tryToEat()\n",
    "        \n",
    "        if self.starveTick == 10:\n",
    "            self.world.delThing(self)\n",
    "        else:\n",
    "            self.tryToMove()\n",
    "            \n",
    "    def tryToBreed(self):\n",
    "        \n",
    "        offsetList = [(-1,1), (0,1), (1,1)\n",
    "                      (-1,0)         (1,0)\n",
    "                      (-1,-1), (0,-1), (1,-1)]\n",
    "        \n",
    "        randomOffsetIndex = random.randrange(len(offsetList))\n",
    "        randomOffset = offsetList[randomOffsetIndex]\n",
    "        \n",
    "        nextx = self.xpos + randomOffset[0]\n",
    "        nexty = self.ypos + randomOffset[1]\n",
    "        \n",
    "        while not (0 <= nextx < self.world.getMaxX() and 0 <= nexty < self.world.getMaxY()):\n",
    "            ranodmOffsetIndex = random.randrange(len(offsetList))\n",
    "            randomOffset = offsetList[randomOffsetIndex]\n",
    "            nextx = self.xpos + randomOffset[0]\n",
    "            nexty = self.ypos + randomOffset[1]\n",
    "            \n",
    "        if self.world.emptyLocation(nextx, nexty):\n",
    "            childThing = Bear()\n",
    "            self.world.addThing(childThing, nextx, nexty)\n",
    "            self.breedTick = 0\n",
    "            \n",
    "    def tryToMove(self):\n",
    "        \n",
    "        offsetList = [(-1,1), (0,1), (1,1)\n",
    "                      (-1,0)         (1,0)\n",
    "                      (-1,-1), (0,-1), (1,-1)]\n",
    "        \n",
    "        randomOffsetIndex = random.randrange(len(offsetList))\n",
    "        randomOffset = offsetList[randomOffsetIndex]\n",
    "        \n",
    "        nextx = self.xpos + randomOffset[0]\n",
    "        nexty = self.ypos + randomOffset[1]\n",
    "        \n",
    "        while not (0 <= nextx < self.world.getMaxX() and 0 <= nexty < self.world.getMaxY()):\n",
    "            ranodmOffsetIndex = random.randrange(len(offsetList))\n",
    "            randomOffset = offsetList[randomOffsetIndex]\n",
    "            nextx = self.xpos + randomOffset[0]\n",
    "            nexty = self.ypos + randomOffset[1]\n",
    "            \n",
    "        if self.world.emptyLocation(nextx, nexty):\n",
    "            self.move(nextx, nexty)\n",
    "            \n",
    "    def tryToEat(self):\n",
    "        \n",
    "        offsetList = [(-1,1), (0,1), (1,1)\n",
    "                      (-1,0)         (1,0)\n",
    "                      (-1,-1), (0,-1), (1,-1)]\n",
    "        \n",
    "        adjprey = []\n",
    "        \n",
    "        for offset in offsettList:\n",
    "                newx = self.xpos + offset[0]\n",
    "                newy = self.ypos + offset[1]\n",
    "                if 0 <= newx < self.world.getMaxX() and 0 <= newy < self.world.getMaxY():\n",
    "                    if (not self.world.emptyLocation(newx, newy)) and isinstance(self.world.lookAtLocation(newx, newy), Fish):\n",
    "                        adjprey.append(self.world.lookAtLocation(newx, newy))\n",
    "                        \n",
    "        if len(adjprey) > 0:\n",
    "            randomprey = adjprey[random.randrange(len(adjprey))]\n",
    "            preyx = randomprey.getX()\n",
    "            preyy = randomprey.getY()\n",
    "            \n",
    "            self.world.delThing(randomprey)\n",
    "            self.move(preyx, preyy)\n",
    "            self.starveTick = 0\n",
    "        else:\n",
    "            self.starveTick += 1"
   ]
  },
  {
   "cell_type": "code",
   "execution_count": 11,
   "metadata": {
    "collapsed": false
   },
   "outputs": [
    {
     "ename": "TypeError",
     "evalue": "'tuple' object is not callable",
     "output_type": "error",
     "traceback": [
      "\u001b[0;31m---------------------------------------------------------------------------\u001b[0m",
      "\u001b[0;31mTypeError\u001b[0m                                 Traceback (most recent call last)",
      "\u001b[0;32m<ipython-input-11-dfd347dda3fc>\u001b[0m in \u001b[0;36m<module>\u001b[0;34m()\u001b[0m\n\u001b[0;32m----> 1\u001b[0;31m \u001b[0mFish\u001b[0m\u001b[1;33m(\u001b[0m\u001b[1;33m)\u001b[0m\u001b[1;33m\u001b[0m\u001b[0m\n\u001b[0m",
      "\u001b[0;32m<ipython-input-7-920d4f3b648b>\u001b[0m in \u001b[0;36m__init__\u001b[0;34m(self)\u001b[0m\n\u001b[1;32m     12\u001b[0m         \u001b[0mself\u001b[0m\u001b[1;33m.\u001b[0m\u001b[0mbreedTick\u001b[0m \u001b[1;33m=\u001b[0m \u001b[1;36m0\u001b[0m\u001b[1;33m\u001b[0m\u001b[0m\n\u001b[1;32m     13\u001b[0m         offsetList = [(-1,1), (0,1), (1,1)\n\u001b[0;32m---> 14\u001b[0;31m                       \u001b[1;33m(\u001b[0m\u001b[1;33m-\u001b[0m\u001b[1;36m1\u001b[0m\u001b[1;33m,\u001b[0m\u001b[1;36m0\u001b[0m\u001b[1;33m)\u001b[0m         \u001b[1;33m(\u001b[0m\u001b[1;36m1\u001b[0m\u001b[1;33m,\u001b[0m\u001b[1;36m0\u001b[0m\u001b[1;33m)\u001b[0m\u001b[1;33m\u001b[0m\u001b[0m\n\u001b[0m\u001b[1;32m     15\u001b[0m                       (-1,-1), (0,-1), (1,-1)]\n\u001b[1;32m     16\u001b[0m \u001b[1;33m\u001b[0m\u001b[0m\n",
      "\u001b[0;31mTypeError\u001b[0m: 'tuple' object is not callable"
     ]
    }
   ],
   "source": [
    "Fish()"
   ]
  },
  {
   "cell_type": "code",
   "execution_count": 11,
   "metadata": {
    "collapsed": true
   },
   "outputs": [],
   "source": [
    "def mainSimulation():\n",
    "    \n",
    "    numberOfBears = 10\n",
    "    numberOfFish = 10\n",
    "    worldLifeTime = 2500\n",
    "    worldWidth = 50\n",
    "    worldHeight = 25\n",
    "    \n",
    "    myworld = World(worldWidth, worldHeight)\n",
    "    myworld.draw()\n",
    "    \n",
    "    for i in range(numberOfFish):\n",
    "        newfish = Fish()\n",
    "        x = random.randrange(myworld.getMaxX())\n",
    "        y = random.randrange(myworld.getMaxY())\n",
    "        while not myworld.emptyLocation(x, y):\n",
    "            x = random.randrange(myworld.getMaxX())\n",
    "            y = random.randrange(myworld.getMaxY())\n",
    "        myworld.addThing(newfish, x, y)\n",
    "    \n",
    "    for i in range(numberOfBears):\n",
    "        newbear = Bear()\n",
    "        x = random.randrange(myworld.getMaxX())\n",
    "        y = random.randrange(myworld.getMaxY())\n",
    "        while not myworld.emptyLocation(x, y):\n",
    "            x = random.randrange(myworld.getMaxX())\n",
    "            y = random.randrange(myworld.getMaxY())\n",
    "        myworld.addThing(newbear, x, y)\n",
    "        \n",
    "    for i in range(worldLifeTime):\n",
    "        myworld.liveALittle()\n",
    "        \n",
    "    myworld.freezeWorld()"
   ]
  },
  {
   "cell_type": "code",
   "execution_count": null,
   "metadata": {
    "collapsed": true
   },
   "outputs": [],
   "source": [
    "mainSimulation()"
   ]
  },
  {
   "cell_type": "code",
   "execution_count": 7,
   "metadata": {
    "collapsed": false
   },
   "outputs": [
    {
     "name": "stdout",
     "output_type": "stream",
     "text": [
      "🐟\n",
      "🐻\n"
     ]
    }
   ],
   "source": [
    "print(\"\\U0001F41F\")\n",
    "print(\"\\U0001F43B\")"
   ]
  },
  {
   "cell_type": "code",
   "execution_count": 12,
   "metadata": {
    "collapsed": true
   },
   "outputs": [],
   "source": [
    "class Animal:\n",
    "    \n",
    "    def __init__(self):\n",
    "        \n",
    "        self.turtle = turtle.Turtle()\n",
    "        self.turtle.up()\n",
    "        self.turtle.hideturtle()        \n",
    "        self.xpos = 0\n",
    "        self.ypos = 0\n",
    "        self.world = None        \n",
    "        self.breedTick = 0\n",
    "        offsetList = [(-1,1), (0,1), (1,1)\n",
    "                      (-1,0)         (1,0)\n",
    "                      (-1,-1), (0,-1), (1,-1)]\n",
    "        \n",
    "    def setX(self, newX):\n",
    "        \n",
    "        self.xpos = newX\n",
    "        \n",
    "    def setY(self, newY):\n",
    "        \n",
    "        self.ypos = newY\n",
    "        \n",
    "    def getX(self):\n",
    "        \n",
    "        return self.xpos\n",
    "    \n",
    "    def getY(self):\n",
    "        \n",
    "        return self.ypos\n",
    "    \n",
    "    def setWorld(self, aworld):\n",
    "        \n",
    "        self.world = aworld\n",
    "        \n",
    "    def appear(self):\n",
    "        \n",
    "        self.turtle.goto(self.xpos, self.ypos)\n",
    "        self.turtle.showturtle()\n",
    "        \n",
    "    def hide(self):\n",
    "        \n",
    "        self.turtle.hideturtle()\n",
    "        \n",
    "    def move(self, newX, newY):\n",
    "        \n",
    "        self.world.moveThing(self.xpos, self.ypos, newX, newY)\n",
    "        self.xpos = newX\n",
    "        self.ypos = newY\n",
    "        self.turtle.goto(self.xpos, self.ypos)\n",
    "        \n",
    "    def tryToBreed(self):\n",
    "        \n",
    "        randomOffsetIndex = random.randrange(len(offsetList))\n",
    "        randomOffset = offsetList[randomOffsetIndex]\n",
    "        \n",
    "        nextx = self.xpos + randomOffset[0]\n",
    "        nexty = self.ypos + randomOffset[1]\n",
    "        \n",
    "        while not (0 <= nextx < self.world.getMaxX() and 0 <= nexty < self.world.getMaxY()):\n",
    "            ranodmOffsetIndex = random.randrange(len(offsetList))\n",
    "            randomOffset = offsetList[randomOffsetIndex]\n",
    "            nextx = self.xpos + randomOffset[0]\n",
    "            nexty = self.ypos + randomOffset[1]\n",
    "            \n",
    "        if self.world.emptyLocation(nextx, nexty):\n",
    "            childThing = Bear()\n",
    "            self.world.addThing(childThing, nextx, nexty)\n",
    "            self.breedTick = 0\n",
    "            \n",
    "    def tryToMove(self):\n",
    "        \n",
    "        randomOffsetIndex = random.randrange(len(offsetList))\n",
    "        randomOffset = offsetList[randomOffsetIndex]\n",
    "        \n",
    "        nextx = self.xpos + randomOffset[0]\n",
    "        nexty = self.ypos + randomOffset[1]\n",
    "        \n",
    "        while not (0 <= nextx < self.world.getMaxX() and 0 <= nexty < self.world.getMaxY()):\n",
    "            ranodmOffsetIndex = random.randrange(len(offsetList))\n",
    "            randomOffset = offsetList[randomOffsetIndex]\n",
    "            nextx = self.xpos + randomOffset[0]\n",
    "            nexty = self.ypos + randomOffset[1]\n",
    "            \n",
    "        if self.world.emptyLocation(nextx, nexty):\n",
    "            self.move(nextx, nexty)"
   ]
  },
  {
   "cell_type": "code",
   "execution_count": 23,
   "metadata": {
    "collapsed": true
   },
   "outputs": [],
   "source": [
    "class Bear(Animal):\n",
    "    \n",
    "    def __init__(self, starveTime=10, breedTime=8):\n",
    "        \n",
    "        super().__init__()\n",
    "        self.starveTick = 0\n",
    "        self.starve = starveTime\n",
    "        self.breed = breedTime\n",
    "        \n",
    "    def tryToEat(self):\n",
    "        \n",
    "        adjprey = []\n",
    "        \n",
    "        for offset in offsettList:\n",
    "                newx = self.xpos + offset[0]\n",
    "                newy = self.ypos + offset[1]\n",
    "                if 0 <= newx < self.world.getMaxX() and 0 <= newy < self.world.getMaxY():\n",
    "                    if (not self.world.emptyLocation(newx, newy)) and isinstance(self.world.lookAtLocation(newx, newy), Fish):\n",
    "                        adjprey.append(self.world.lookAtLocation(newx, newy))\n",
    "                        \n",
    "        if len(adjprey) > 0:\n",
    "            randomprey = adjprey[random.randrange(len(adjprey))]\n",
    "            preyx = randomprey.getX()\n",
    "            preyy = randomprey.getY()\n",
    "            \n",
    "            self.world.delThing(randomprey)\n",
    "            self.move(preyx, preyy)\n",
    "            self.starveTick = 0\n",
    "        else:\n",
    "            self.starveTick += 1\n",
    "            \n",
    "    def liveALittle(self):\n",
    "        \n",
    "        self.breedTick += 1\n",
    "        if self.breedTick >= self.breed:\n",
    "            self.tryToBreed()\n",
    "            \n",
    "        self.tryToEat()\n",
    "        \n",
    "        if self.starveTick == self.starve:\n",
    "            self.world.delThing(self)\n",
    "        else:\n",
    "            self.tryToMove()\n",
    "            \n",
    "    def getStarve(self):\n",
    "        \n",
    "        return self.starve\n",
    "    \n",
    "    def getBreed(self):\n",
    "        \n",
    "        return self.breed\n",
    "    \n",
    "    def setStarve(self, x):\n",
    "        \n",
    "        self.starve = x\n",
    "        \n",
    "    def setBreed(self, x):\n",
    "        \n",
    "        self.breed = x"
   ]
  },
  {
   "cell_type": "code",
   "execution_count": 24,
   "metadata": {
    "collapsed": true
   },
   "outputs": [],
   "source": [
    "class Fish(Animal):\n",
    "    \n",
    "    def __init__(self, crowd=2, breedInterval=12):\n",
    "        \n",
    "        super().__init__()\n",
    "        self.overcrowd = crowd\n",
    "        self.breedInterval = breedInterval\n",
    "        \n",
    "    def liveALittle(self):\n",
    "        \n",
    "        adjFish = 0\n",
    "        for offset in offsetList:\n",
    "            newx = self.xpos + offset[0]\n",
    "            newy = self.ypos + offset[1]\n",
    "            if 0 <= newx < self.world.getMaxX() and 0 <= newy < self.world.getMaxY():\n",
    "                    if (not self.world.emptyLocation(newx, newy)) and isinstance(self.world.lookAtLocation(newx, newy), Fish):\n",
    "                            adjFish += 1\n",
    "                            \n",
    "        if adjFish >= self.overcrowd:\n",
    "            self.world.delThing(self)\n",
    "        else:\n",
    "            self.breedTick += 1\n",
    "            if self.breedTick >= self.breedInterval:\n",
    "                self.tryToBreed()\n",
    "                \n",
    "            self.tryToMove()\n",
    "            \n",
    "    def getOvercrowd(self):\n",
    "        \n",
    "        return self.overcrowd\n",
    "    \n",
    "    def getBreedInterval(self):\n",
    "        \n",
    "        return self.breedInterval\n",
    "    \n",
    "    def setOvercrowd(self, x):\n",
    "        \n",
    "        self.overcrowd = x\n",
    "        \n",
    "    def setBreedInterval(self, x):\n",
    "        \n",
    "        self.breedInterval = x"
   ]
  },
  {
   "cell_type": "code",
   "execution_count": 29,
   "metadata": {
    "collapsed": true
   },
   "outputs": [],
   "source": [
    "grid = np.array([None] * 100).reshape(10,10)"
   ]
  },
  {
   "cell_type": "code",
   "execution_count": 30,
   "metadata": {
    "collapsed": false
   },
   "outputs": [
    {
     "data": {
      "text/plain": [
       "array([[None, None, None, None, None, None, None, None, None, None],\n",
       "       [None, None, None, None, None, None, None, None, None, None],\n",
       "       [None, None, None, None, None, None, None, None, None, None],\n",
       "       [None, None, None, None, None, None, None, None, None, None],\n",
       "       [None, None, None, None, None, None, None, None, None, None],\n",
       "       [None, None, None, None, None, None, None, None, None, None],\n",
       "       [None, None, None, None, None, None, None, None, None, None],\n",
       "       [None, None, None, None, None, None, None, None, None, None],\n",
       "       [None, None, None, None, None, None, None, None, None, None],\n",
       "       [None, None, None, None, None, None, None, None, None, None]], dtype=object)"
      ]
     },
     "execution_count": 30,
     "metadata": {},
     "output_type": "execute_result"
    }
   ],
   "source": [
    "grid"
   ]
  },
  {
   "cell_type": "code",
   "execution_count": 35,
   "metadata": {
    "collapsed": false
   },
   "outputs": [
    {
     "data": {
      "text/plain": [
       "array([[ 0,  1,  2,  3,  4],\n",
       "       [ 5,  6,  7,  8,  9],\n",
       "       [10, 11, 12, 13, 14],\n",
       "       [15, 16, 17, 18, 19]])"
      ]
     },
     "execution_count": 35,
     "metadata": {},
     "output_type": "execute_result"
    }
   ],
   "source": [
    "a = np.array(range(20)).reshape(4,5)\n",
    "a"
   ]
  },
  {
   "cell_type": "code",
   "execution_count": 37,
   "metadata": {
    "collapsed": false
   },
   "outputs": [
    {
     "data": {
      "text/plain": [
       "2"
      ]
     },
     "execution_count": 37,
     "metadata": {},
     "output_type": "execute_result"
    }
   ],
   "source": [
    "a[0][2]"
   ]
  },
  {
   "cell_type": "code",
   "execution_count": 39,
   "metadata": {
    "collapsed": false
   },
   "outputs": [
    {
     "data": {
      "text/plain": [
       "9"
      ]
     },
     "execution_count": 39,
     "metadata": {},
     "output_type": "execute_result"
    }
   ],
   "source": [
    "loc = (1,4)\n",
    "a[loc]"
   ]
  },
  {
   "cell_type": "code",
   "execution_count": 40,
   "metadata": {
    "collapsed": false
   },
   "outputs": [
    {
     "data": {
      "text/plain": [
       "15"
      ]
     },
     "execution_count": 40,
     "metadata": {},
     "output_type": "execute_result"
    }
   ],
   "source": [
    "a[3,0]"
   ]
  },
  {
   "cell_type": "code",
   "execution_count": 41,
   "metadata": {
    "collapsed": false
   },
   "outputs": [
    {
     "data": {
      "text/plain": [
       "numpy.ndarray"
      ]
     },
     "execution_count": 41,
     "metadata": {},
     "output_type": "execute_result"
    }
   ],
   "source": [
    "type(a)"
   ]
  },
  {
   "cell_type": "code",
   "execution_count": 57,
   "metadata": {
    "collapsed": true
   },
   "outputs": [],
   "source": [
    "def grid(x,y):\n",
    "    return np.array([None] * (x*y)).reshape(x,y)"
   ]
  },
  {
   "cell_type": "code",
   "execution_count": 58,
   "metadata": {
    "collapsed": false
   },
   "outputs": [],
   "source": [
    "x = grid(10,10)"
   ]
  },
  {
   "cell_type": "code",
   "execution_count": 59,
   "metadata": {
    "collapsed": false
   },
   "outputs": [],
   "source": [
    "x[2, 5] = '\\U0001F43B'"
   ]
  },
  {
   "cell_type": "code",
   "execution_count": 60,
   "metadata": {
    "collapsed": false
   },
   "outputs": [
    {
     "data": {
      "text/plain": [
       "array([[None, None, None, None, None, None, None, None, None, None],\n",
       "       [None, None, None, None, None, None, None, None, None, None],\n",
       "       [None, None, None, None, None, '🐻', None, None, None, None],\n",
       "       [None, None, None, None, None, None, None, None, None, None],\n",
       "       [None, None, None, None, None, None, None, None, None, None],\n",
       "       [None, None, None, None, None, None, None, None, None, None],\n",
       "       [None, None, None, None, None, None, None, None, None, None],\n",
       "       [None, None, None, None, None, None, None, None, None, None],\n",
       "       [None, None, None, None, None, None, None, None, None, None],\n",
       "       [None, None, None, None, None, None, None, None, None, None]], dtype=object)"
      ]
     },
     "execution_count": 60,
     "metadata": {},
     "output_type": "execute_result"
    }
   ],
   "source": [
    "x"
   ]
  },
  {
   "cell_type": "code",
   "execution_count": 3,
   "metadata": {
    "collapsed": false
   },
   "outputs": [
    {
     "data": {
      "text/plain": [
       "array([[None, None, None, None, None],\n",
       "       [None, None, None, None, None],\n",
       "       [None, None, None, None, None],\n",
       "       [None, None, None, None, None],\n",
       "       [None, None, None, None, None]], dtype=object)"
      ]
     },
     "execution_count": 3,
     "metadata": {},
     "output_type": "execute_result"
    }
   ],
   "source": [
    "grid = np.array([None] * 25).reshape(5,5)\n",
    "grid"
   ]
  },
  {
   "cell_type": "code",
   "execution_count": 11,
   "metadata": {
    "collapsed": false
   },
   "outputs": [
    {
     "data": {
      "text/plain": [
       "array([[None, None, None, None, None],\n",
       "       [None, None, None, None, None],\n",
       "       [None, None, '🐻12', None, None],\n",
       "       [None, None, None, None, None],\n",
       "       [None, None, None, None, None]], dtype=object)"
      ]
     },
     "execution_count": 11,
     "metadata": {},
     "output_type": "execute_result"
    }
   ],
   "source": [
    "grid[2,2] = '\\U0001F43B' + str(12)\n",
    "grid"
   ]
  },
  {
   "cell_type": "code",
   "execution_count": 12,
   "metadata": {
    "collapsed": false
   },
   "outputs": [
    {
     "data": {
      "text/plain": [
       "str"
      ]
     },
     "execution_count": 12,
     "metadata": {},
     "output_type": "execute_result"
    }
   ],
   "source": [
    "type(grid[2,2])"
   ]
  },
  {
   "cell_type": "code",
   "execution_count": 14,
   "metadata": {
    "collapsed": false
   },
   "outputs": [
    {
     "data": {
      "text/plain": [
       "True"
      ]
     },
     "execution_count": 14,
     "metadata": {},
     "output_type": "execute_result"
    }
   ],
   "source": [
    "grid[2,2][0] == '\\U0001F43B'"
   ]
  },
  {
   "cell_type": "code",
   "execution_count": 20,
   "metadata": {
    "collapsed": false
   },
   "outputs": [
    {
     "name": "stdout",
     "output_type": "stream",
     "text": [
      "[None None None None None None None None None None None None None None None\n",
      " None None None None None None None None None None]\n",
      "[[None None None None None]\n",
      " [None None None None None]\n",
      " [None None None None None]\n",
      " [None None None None None]\n",
      " [None None None None None]]\n"
     ]
    }
   ],
   "source": [
    "v = np.array([None] * 25)\n",
    "grid = v.reshape(5,5)\n",
    "print(v)\n",
    "print(grid)"
   ]
  },
  {
   "cell_type": "code",
   "execution_count": 22,
   "metadata": {
    "collapsed": false
   },
   "outputs": [
    {
     "name": "stdout",
     "output_type": "stream",
     "text": [
      "['🐟' None None None None None None None None None None None None None None\n",
      " None None None None None None None None None None]\n",
      "[['🐟' None None None None]\n",
      " [None None None None None]\n",
      " [None None None None None]\n",
      " [None None None None None]\n",
      " [None None None None None]]\n"
     ]
    }
   ],
   "source": [
    "v[0] = \"\\U0001F41F\"\n",
    "print(v)\n",
    "print(grid)"
   ]
  },
  {
   "cell_type": "code",
   "execution_count": 23,
   "metadata": {
    "collapsed": false
   },
   "outputs": [
    {
     "data": {
      "text/plain": [
       "25"
      ]
     },
     "execution_count": 23,
     "metadata": {},
     "output_type": "execute_result"
    }
   ],
   "source": [
    "len(v)"
   ]
  },
  {
   "cell_type": "code",
   "execution_count": 19,
   "metadata": {
    "collapsed": false
   },
   "outputs": [],
   "source": [
    "class Jacob:\n",
    "    \n",
    "    def __init__(self):\n",
    "        \n",
    "        self._name = \"Jacob\"\n",
    "        self._age = \"23\"\n",
    "        self._major = \"CIS\"\n",
    "        self._grid = np.array([None] * 25).reshape(5,5)\n",
    "        \n",
    "    def __repr__(self):\n",
    "        \n",
    "        return \"%s\" % (self._grid)"
   ]
  },
  {
   "cell_type": "code",
   "execution_count": 20,
   "metadata": {
    "collapsed": false
   },
   "outputs": [
    {
     "data": {
      "text/plain": [
       "[[None None None None None]\n",
       " [None None None None None]\n",
       " [None None None None None]\n",
       " [None None None None None]\n",
       " [None None None None None]]"
      ]
     },
     "execution_count": 20,
     "metadata": {},
     "output_type": "execute_result"
    }
   ],
   "source": [
    "Jacob()"
   ]
  },
  {
   "cell_type": "code",
   "execution_count": null,
   "metadata": {
    "collapsed": true
   },
   "outputs": [],
   "source": []
  }
 ],
 "metadata": {
  "anaconda-cloud": {},
  "kernelspec": {
   "display_name": "Python [default]",
   "language": "python",
   "name": "python3"
  },
  "language_info": {
   "codemirror_mode": {
    "name": "ipython",
    "version": 3
   },
   "file_extension": ".py",
   "mimetype": "text/x-python",
   "name": "python",
   "nbconvert_exporter": "python",
   "pygments_lexer": "ipython3",
   "version": "3.5.2"
  }
 },
 "nbformat": 4,
 "nbformat_minor": 1
}
