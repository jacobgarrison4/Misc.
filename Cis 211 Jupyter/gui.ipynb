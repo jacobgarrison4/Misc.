{
 "cells": [
  {
   "cell_type": "markdown",
   "metadata": {
    "deletable": true,
    "editable": true,
    "outputExpanded": false
   },
   "source": [
    "# <span style=\"color:teal;\">CIS 211 Project 6:  N-Body GUI</span>"
   ]
  },
  {
   "cell_type": "markdown",
   "metadata": {
    "deletable": true,
    "editable": true,
    "outputExpanded": false
   },
   "source": [
    "##### Due 11:00 P.M. Tuesday Feb 28, 2017"
   ]
  },
  {
   "cell_type": "markdown",
   "metadata": {
    "deletable": true,
    "editable": true,
    "outputExpanded": false
   },
   "source": [
    "##### Reading:  Online Tutorials"
   ]
  },
  {
   "cell_type": "markdown",
   "metadata": {
    "deletable": true,
    "editable": true,
    "outputExpanded": false
   },
   "source": [
    "For this week's project you will create the elements used in a GUI for visualizing the solar system simulation: \n",
    "* a subclass of Body that adds attributes used to display a planet \n",
    "* a new type of Canvas with methods for drawing and moving planets\n",
    "* a frame that contains a label and a spinbox used to control the number of planets to display\n",
    "* another frame that has a run button and a place to enter the simulation parameters"
   ]
  },
  {
   "cell_type": "markdown",
   "metadata": {
    "deletable": true,
    "editable": true,
    "outputExpanded": false
   },
   "source": [
    "###  <span style=\"color:teal\">N-Body Simulation Code</span>"
   ]
  },
  {
   "cell_type": "markdown",
   "metadata": {
    "deletable": true,
    "editable": true,
    "outputExpanded": false
   },
   "source": [
    "This week's project will use the Vector and Body classes from Project 4 and the `step_system` function from Project 5.  There are two ways to use that code in this project:  (1) copy your definitions from the previous projects, or (2) download the instructor's solution from Canvas.\n",
    "\n",
    "Instructions for both methods are in the next two sections.  **Use either of these methods, but not both.**  \n",
    "\n",
    "Note: you will earn **extra credit points** if you use your own code."
   ]
  },
  {
   "cell_type": "markdown",
   "metadata": {
    "deletable": true,
    "editable": true,
    "outputExpanded": false
   },
   "source": [
    "####  <span style=\"color:teal\">Option 1: &nbsp; Use Your Own Code</span>"
   ]
  },
  {
   "cell_type": "markdown",
   "metadata": {
    "deletable": true,
    "editable": true,
    "outputExpanded": false
   },
   "source": [
    "Choose this method only if your Vector and Body class passed all their unit tests and the `step_system` function passed its tests. Copy the complete definitions from your other notebooks and paste them into the code cells below.  "
   ]
  },
  {
   "cell_type": "code",
   "execution_count": null,
   "metadata": {
    "collapsed": true,
    "deletable": true,
    "editable": true,
    "outputExpanded": false
   },
   "outputs": [],
   "source": [
    "# Copy and paste a working version of the Vector class into this cell.\n",
    "\n",
    "pass"
   ]
  },
  {
   "cell_type": "code",
   "execution_count": null,
   "metadata": {
    "collapsed": true,
    "deletable": true,
    "editable": true,
    "outputExpanded": false
   },
   "outputs": [],
   "source": [
    "# Copy and paste a working version of the Body class into this cell.\n",
    "\n",
    "pass"
   ]
  },
  {
   "cell_type": "code",
   "execution_count": null,
   "metadata": {
    "collapsed": true,
    "deletable": true,
    "editable": true,
    "outputExpanded": false
   },
   "outputs": [],
   "source": [
    "# Copy and paste a working version of the step_system function into this cell.\n",
    "\n",
    "pass"
   ]
  },
  {
   "cell_type": "markdown",
   "metadata": {
    "deletable": true,
    "editable": true,
    "outputExpanded": false
   },
   "source": [
    "####  <span style=\"color:teal\">Option 2: &nbsp; Download `Orbits.pyc` from Canvas </span>"
   ]
  },
  {
   "cell_type": "markdown",
   "metadata": {
    "deletable": true,
    "editable": true,
    "outputExpanded": false
   },
   "source": [
    "Download one of the `Orbits.cpython-3x.pyc` files, rename it `Orbits.pyc`, and move it to the same folder as this notebook.  Then uncomment and execute the `import` command in the code cell below.\n",
    "\n",
    "**Make sure you get the right file for your version of Python.**"
   ]
  },
  {
   "cell_type": "code",
   "execution_count": 1,
   "metadata": {
    "collapsed": false,
    "deletable": true,
    "editable": true,
    "outputExpanded": false
   },
   "outputs": [],
   "source": [
    "from Orbits import *"
   ]
  },
  {
   "cell_type": "markdown",
   "metadata": {
    "deletable": true,
    "editable": true,
    "outputExpanded": false
   },
   "source": [
    "###  <span style=\"color:teal\">Libraries</span>"
   ]
  },
  {
   "cell_type": "markdown",
   "metadata": {
    "deletable": true,
    "editable": true,
    "outputExpanded": false
   },
   "source": [
    "Execute these code cells each time you open the notebook.  The cell that defines two global constants will allow us to run autograder tests when the notebook is loaded into Jupyter but not when the program is run from the command line."
   ]
  },
  {
   "cell_type": "code",
   "execution_count": 2,
   "metadata": {
    "collapsed": true,
    "deletable": true,
    "editable": true,
    "outputExpanded": false
   },
   "outputs": [],
   "source": [
    "IPython = (__doc__ is not None) and ('IPython' in __doc__)\n",
    "Main    = __name__ == '__main__'"
   ]
  },
  {
   "cell_type": "code",
   "execution_count": 3,
   "metadata": {
    "collapsed": true,
    "deletable": true,
    "editable": true,
    "outputExpanded": false
   },
   "outputs": [],
   "source": [
    "if IPython:\n",
    "    %gui tk"
   ]
  },
  {
   "cell_type": "code",
   "execution_count": 4,
   "metadata": {
    "collapsed": true,
    "deletable": true,
    "editable": true,
    "outputExpanded": false
   },
   "outputs": [],
   "source": [
    "import tkinter as tk\n",
    "import tkinter.ttk as ttk\n",
    "from tkinter import filedialog\n",
    "from time import sleep"
   ]
  },
  {
   "cell_type": "markdown",
   "metadata": {
    "deletable": true,
    "editable": true,
    "outputExpanded": false
   },
   "source": [
    "###  <span style=\"color:teal\">Helper Function</span>"
   ]
  },
  {
   "cell_type": "markdown",
   "metadata": {
    "deletable": true,
    "editable": true,
    "outputExpanded": false
   },
   "source": [
    "To help test and debug your code execute this code cell to define a function named `read_bodies`.\n",
    "\n",
    "The first argument passed to the function should be the name of the file containing planet descriptions.  Download `solarsystem.txt` from Canvas and save it in the same directory as this notebook.\n",
    "\n",
    "The second argument is the type of Body object you want to make.  If you call\n",
    "```\n",
    ">>> read_bodies('solarsystem.txt', Body)\n",
    "```\n",
    "you will get back a list of Body objects (you should to this to make sure you can read the data file).  \n",
    "\n",
    "Part 1 of this week's project is to defined a new class named TkBody that is derived from the Body class. If you call\n",
    "```\n",
    ">>> read_bodies('solarsystem.txt', TkBody)\n",
    "```\n",
    "you will get a list of TkBody objects that include the attributes needed to draw the planets on a canvas."
   ]
  },
  {
   "cell_type": "code",
   "execution_count": 5,
   "metadata": {
    "collapsed": true,
    "deletable": false,
    "editable": true,
    "nbgrader": {
     "checksum": "a9a370c4d7b1234d9e565c70c484fdec",
     "grade": false,
     "grade_id": "read_bodies",
     "locked": true,
     "solution": false
    },
    "outputExpanded": false
   },
   "outputs": [],
   "source": [
    "def read_bodies(filename, cls):\n",
    "    '''\n",
    "    Read descriptions of planets, return a list of body objects.  The first\n",
    "    argument is the name of a file with one planet description per line, the\n",
    "    second argument is the type of object to make for each planet.\n",
    "    '''\n",
    "    if not issubclass(cls, Body):\n",
    "        raise TypeError('cls must be Body or a subclass of Body')\n",
    "\n",
    "    bodies = [ ]\n",
    "\n",
    "    with open(filename) as bodyfile:\n",
    "        for line in bodyfile:\n",
    "            line = line.strip()\n",
    "            if len(line) == 0 or line[0] == '#':\n",
    "                continue\n",
    "            name, m, rx, ry, rz, vx, vy, vz, diam, color = line.split()\n",
    "            args = {\n",
    "                'mass' : float(m),\n",
    "                'position' : Vector(float(rx), float(ry), float(rz)),\n",
    "                'velocity' : Vector(float(vx), float(vy), float(vz)),\n",
    "            }\n",
    "            opts = {'name': name, 'color': color, 'size': int(diam)}\n",
    "            for x in opts:\n",
    "                if getattr(cls, x, None):\n",
    "                    args[x] = opts[x]\n",
    "            bodies.append(cls(**args))\n",
    "\n",
    "    return bodies\n"
   ]
  },
  {
   "cell_type": "markdown",
   "metadata": {
    "deletable": true,
    "editable": true,
    "outputExpanded": false
   },
   "source": [
    "###  <span style=\"color:teal\">Part 1: &nbsp; TkBody (20 points)</span>"
   ]
  },
  {
   "cell_type": "markdown",
   "metadata": {
    "deletable": true,
    "editable": true,
    "outputExpanded": false
   },
   "source": [
    "Fill in the definition of the TkBody class in the code cell below.  The constructor should accept the same arguments as the Body class constructor plus two new attributes:\n",
    "* `size` is the radius, in pixels, of the circle to draw to represent the body\n",
    "* `color` is a string used to defined the fill color of the circle\n",
    "\n",
    "Define two getter methods, named `size` and `color`, to return the values of those attributes.\n",
    "\n",
    "A third new attribute of a TkBody object is named `graphic`.  It will hold the ID of the circle created when the body is drawn. Initialize this attribute to None when the body is created, and define a \"setter\" named `set_graphic` and a \"getter\" named `graphic`.\n",
    "\n",
    "**Note:** If you need a reminder of the arguments passed to Body type `?Body` or `help(Body)` in a Jupyter code cell.\n"
   ]
  },
  {
   "cell_type": "markdown",
   "metadata": {
    "deletable": true,
    "editable": true,
    "outputExpanded": false
   },
   "source": [
    "##### <span style=\"color:red\">Code:</span>"
   ]
  },
  {
   "cell_type": "code",
   "execution_count": 7,
   "metadata": {
    "collapsed": false
   },
   "outputs": [
    {
     "name": "stdout",
     "output_type": "stream",
     "text": [
      "Help on class Body in module Orbits:\n",
      "\n",
      "class Body(builtins.object)\n",
      " |  A Body object represents the state of a celestial body.  A body has mass\n",
      " |  (a scalar), position (a vector), and velocity (a vector).  A third vector,\n",
      " |  named force, is used when calculating forces acting on a body.  An\n",
      " |  optional name can be attached to use in debugging.\n",
      " |  \n",
      " |  Methods defined here:\n",
      " |  \n",
      " |  __init__(self, mass=0, position=(0,0,0), velocity=(0,0,0), name=None)\n",
      " |      Create a new Body object with the specified mass (a scalar), position (a vector),\n",
      " |      and velocity (another vector).  A fourth argument is an optional name for the body.\n",
      " |  \n",
      " |  __repr__(self)\n",
      " |      Return repr(self).\n",
      " |  \n",
      " |  add_force(self, other)\n",
      " |  \n",
      " |  clear_force(self)\n",
      " |  \n",
      " |  direction(self, other)\n",
      " |  \n",
      " |  force(self)\n",
      " |  \n",
      " |  mass(self)\n",
      " |  \n",
      " |  move(self, dt)\n",
      " |  \n",
      " |  name(self)\n",
      " |  \n",
      " |  position(self)\n",
      " |  \n",
      " |  velocity(self)\n",
      " |  \n",
      " |  ----------------------------------------------------------------------\n",
      " |  Data descriptors defined here:\n",
      " |  \n",
      " |  __dict__\n",
      " |      dictionary for instance variables (if defined)\n",
      " |  \n",
      " |  __weakref__\n",
      " |      list of weak references to the object (if defined)\n",
      "\n"
     ]
    }
   ],
   "source": [
    "help(Body)"
   ]
  },
  {
   "cell_type": "code",
   "execution_count": 6,
   "metadata": {
    "collapsed": false,
    "deletable": false,
    "editable": true,
    "nbgrader": {
     "checksum": "188a652f9e97bfaea8d3a9b8eac7c481",
     "grade": true,
     "grade_id": "tkbody",
     "locked": false,
     "points": 10,
     "solution": true
    },
    "outputExpanded": false
   },
   "outputs": [],
   "source": [
    "class TkBody(Body):\n",
    "    \n",
    "    def __init__(self, mass, position, velocity, name, size, color, graphic=None):\n",
    "        Body.__init__(self, mass, position, velocity, name)\n",
    "        self._size = size\n",
    "        self._color = color\n",
    "        self._graphic = graphic\n",
    "        \n",
    "    def size(self):\n",
    "        return self._size\n",
    "    \n",
    "    def color(self):\n",
    "        return self._color\n",
    "    \n",
    "    def set_graphic(self, value):\n",
    "        self._graphic = value\n",
    "        \n",
    "    def graphic(self):\n",
    "        return self._graphic\n",
    "    \n",
    "    pass\n"
   ]
  },
  {
   "cell_type": "markdown",
   "metadata": {
    "deletable": true,
    "editable": true,
    "outputExpanded": false
   },
   "source": [
    "##### <span style=\"color:red\">Tests:</span>"
   ]
  },
  {
   "cell_type": "markdown",
   "metadata": {
    "deletable": true,
    "editable": true,
    "nbgrader": {
     "grade": false,
     "locked": false,
     "points": 30,
     "solution": false
    },
    "outputExpanded": false
   },
   "source": [
    "Use the following code cell as a \"sandbox\" if you want to do your own tests of the TkBody class.  You can add additional cells here if you want."
   ]
  },
  {
   "cell_type": "code",
   "execution_count": null,
   "metadata": {
    "collapsed": true,
    "deletable": true,
    "editable": true,
    "outputExpanded": false
   },
   "outputs": [],
   "source": []
  },
  {
   "cell_type": "markdown",
   "metadata": {
    "deletable": true,
    "editable": true,
    "outputExpanded": false
   },
   "source": [
    "##### <span style=\"color:red\">Autograder Tests:</span>"
   ]
  },
  {
   "cell_type": "markdown",
   "metadata": {
    "deletable": true,
    "editable": true,
    "outputExpanded": false
   },
   "source": [
    "**Important:** &nbsp;  the code cells in this section will be used by `nbgrader` to run automated tests.  Do not move, delete or alter these cells in any way."
   ]
  },
  {
   "cell_type": "code",
   "execution_count": 7,
   "metadata": {
    "collapsed": false,
    "deletable": false,
    "editable": true,
    "nbgrader": {
     "checksum": "d8094ecbc1a18c456941ddfda1f87db5",
     "grade": true,
     "grade_id": "tkbody_test1",
     "locked": true,
     "points": 2,
     "solution": false
    },
    "outputExpanded": false
   },
   "outputs": [],
   "source": [
    "if IPython:\n",
    "    b = TkBody(0, Vector(0,0,0), Vector(0,0,0), '', 0, 'black')\n",
    "\n",
    "    assert isinstance(b, Body)\n",
    "    assert isinstance(b, TkBody)\n",
    "\n",
    "    assert b.size() == 0\n",
    "    assert b.color() == 'black'\n",
    "    assert b.graphic() is None\n",
    "\n",
    "    b.set_graphic(0)\n",
    "    assert b.graphic() == 0"
   ]
  },
  {
   "cell_type": "code",
   "execution_count": 8,
   "metadata": {
    "collapsed": false,
    "deletable": false,
    "editable": true,
    "nbgrader": {
     "checksum": "0c8c0e1d7f854a9c1169dc806a3a52f1",
     "grade": true,
     "grade_id": "tkbody_test2",
     "locked": true,
     "points": 3,
     "solution": false
    },
    "outputExpanded": false
   },
   "outputs": [],
   "source": [
    "if IPython:\n",
    "    bodies = read_bodies('solarsystem.txt', TkBody)\n",
    "\n",
    "    assert isinstance(bodies[0], TkBody)\n",
    "\n",
    "    assert bodies[0].name() == 'sun'\n",
    "    assert bodies[0].size() == 10\n",
    "    assert bodies[0].color() == '#ffff00'"
   ]
  },
  {
   "cell_type": "markdown",
   "metadata": {
    "editable": true,
    "outputExpanded": false
   },
   "source": [
    "##### <span style=\"color:red\">Documentation:</span>"
   ]
  },
  {
   "cell_type": "markdown",
   "metadata": {
    "deletable": false,
    "nbgrader": {
     "checksum": "3f53fca46fd116b7f427a5a13d2a1200",
     "grade": true,
     "grade_id": "tkbody_doc",
     "locked": false,
     "points": 5,
     "solution": true
    }
   },
   "source": [
    "For part 1, I created a new class that took in the same parameters as the Body class plus a few more. Then I made getter and setter functions return size and color of the planets and to set an ID for each planet on the canvas."
   ]
  },
  {
   "cell_type": "markdown",
   "metadata": {
    "deletable": true,
    "editable": true,
    "outputExpanded": false
   },
   "source": [
    "###  <span style=\"color:teal\">Part 2: &nbsp; SolarSystemCanvas (20 points)</span>"
   ]
  },
  {
   "cell_type": "markdown",
   "metadata": {
    "deletable": true,
    "editable": true,
    "outputExpanded": false
   },
   "source": [
    "A SolarSystemCanvas is a type of Canvas used to draw planets.  An instance of this class has the following methods:\n",
    "* `set_planets` is passed a list of all the bodies in the simulation; it should save this list in an instance variable for use later\n",
    "* `view_planets` is passed an integer `n`, and it should draw circles representing the first `n` bodies in the list (and save the value of `n` in an instance variable)\n",
    "* `move_planets` is also passed a complete list of body objects; it should use the positions of the first `n` bodies to compute new locations of the circles of the `n` planets currently on the canvas\n",
    "\n",
    "Much of the code for this class has been written already for you.  Here are the details of the methods you need to fill in."
   ]
  },
  {
   "cell_type": "markdown",
   "metadata": {
    "deletable": true,
    "editable": true,
    "outputExpanded": false
   },
   "source": [
    "#### `_compute_scale` "
   ]
  },
  {
   "cell_type": "markdown",
   "metadata": {
    "deletable": true,
    "editable": true,
    "outputExpanded": false
   },
   "source": [
    "An important role for this class is to convert solar system coordinates (billions of meters) into screen coordinates (hundreds of pixels).  The method named `_compute_scale` calculates a scaling factor so that when a body is displayed it is placed at the correct location on the screen.  The formula is"
   ]
  },
  {
   "cell_type": "markdown",
   "metadata": {
    "deletable": true,
    "editable": true,
    "outputExpanded": false
   },
   "source": [
    "$$f = \\frac{p\\,/\\,2}{| \\, d_\\mathrm{max} \\, |} $$"
   ]
  },
  {
   "cell_type": "markdown",
   "metadata": {
    "deletable": true,
    "editable": true,
    "outputExpanded": false
   },
   "source": [
    "where $p$ is the height or width (whichever is smaller) of the canvas, in pixels, and $d_\\mathrm{max}$ is the largest distance to any planet in the list passed to the method.\n",
    "\n",
    "For example, suppose the screen is 500 pixels wide and 400 pixels tall, and this method is called with a list of 6 bodies, for the sun and all the planets up through Jupiter.  The $x$ coordinate of Jupiter at the start of the simulation is $-7.5 \\times 10^{11}$, which defines a scale factor of $2.66 \\times 10^{-10}$.\n",
    "\n",
    "There are different ways to figure out the largest distance.  A simple method is to find the maximum of the norm of each position vector; another is to find the largest absolute value of any $x$ or $y$ coordinate.  \n",
    "\n",
    "You can also include a \"fudge factor\" if you want to add a little extra space so the furthest orbit does not bump up against the edge of the canvas.  For example, if you use $1.1 \\times d_\\mathrm{max}$ in the denominator the planets will be about 10% closer to the center.\n",
    "\n",
    "Your method should compute the scale factor and save it in an instance variable named `_scale` so it can be used later when the planets are drawn and moved.\n",
    "\n",
    "**Important:** You need to save the scale factor in `self._scale` because that is the name used by the other methods which we have written for you."
   ]
  },
  {
   "cell_type": "markdown",
   "metadata": {
    "deletable": true,
    "editable": true,
    "outputExpanded": false
   },
   "source": [
    "#### `view_planets` "
   ]
  },
  {
   "cell_type": "markdown",
   "metadata": {
    "deletable": true,
    "editable": true,
    "outputExpanded": false
   },
   "source": [
    "This method will be passed an integer `n`, and it needs to draw circles representing the first `n` planets in the current list of TkBody objects (which have been saved in the instance variable `self._planets`).  Your method needs to:\n",
    "* compute the scale factor for this list of planets\n",
    "* delete any planets and lines that are on the canvas\n",
    "* draw circles for the first `n` planets in `self._planets`\n",
    "* save the value of `n` in `self._outer` so it can be used by `move_planets`\n",
    "The circles should use the size and color attributes of the TkBody objects that represent the planets."
   ]
  },
  {
   "cell_type": "markdown",
   "metadata": {
    "deletable": true,
    "editable": true,
    "outputExpanded": false
   },
   "source": [
    "#### `move_planets` "
   ]
  },
  {
   "cell_type": "markdown",
   "metadata": {
    "deletable": true,
    "editable": true,
    "outputExpanded": false
   },
   "source": [
    "This method will be called by the main simulator after each time step.  The argument passed to the method is the list of TkBody objects with their updated position vectors.  For each planet currently on the canvas:\n",
    "* get the $x$ and $y$ coordinates of the current location of the circle\n",
    "* compute the $x$ and $y$ coordinates for the updated location\n",
    "* move the circle to the new location\n",
    "* draw a line segment from the old location to the new location\n",
    "\n",
    "Two methods that compute screen locations have been written for you.  Call `self._current_loc(p)` to get the $x$ and $y$ coordinates of the center of the circle representing planet `p`.  Call `self._compute_loc(p)` to get the $x$ and $y$ coordinates for the new center of the circle based on the position vector of planet `p`."
   ]
  },
  {
   "cell_type": "code",
   "execution_count": 243,
   "metadata": {
    "collapsed": false,
    "deletable": false,
    "editable": true,
    "nbgrader": {
     "checksum": "2d2a58fa9c81c19da94948ee8bfe1baa",
     "grade": true,
     "grade_id": "solar_system_canvas",
     "locked": false,
     "points": 10,
     "solution": true
    },
    "outputExpanded": false
   },
   "outputs": [],
   "source": [
    "class SolarSystemCanvas(tk.Canvas):\n",
    "    \n",
    "    def __init__(self, parent, height=600, width=600):\n",
    "        tk.Canvas.__init__(self, parent, height=height, width=width, background='gray90', highlightthickness=0)\n",
    "        self._height = height\n",
    "        self._width = width\n",
    "        self._planets = None\n",
    "        self._outer = None\n",
    "        self._scale = None\n",
    "        self._offset = Vector(int(self['width'])/2, int(self['height'])/2, 0)\n",
    "        \n",
    "    def set_planets(self, lst):\n",
    "        self._planets = lst\n",
    "        self._outer = len(lst)\n",
    "        self._compute_scale(lst)\n",
    "        self.view_planets(len(lst))\n",
    "        \n",
    "    def view_planets(self, n):\n",
    "        planets = self._planets[:n]\n",
    "        self._compute_scale(planets)\n",
    "        self.delete(\"all\")\n",
    "        for p in planets:\n",
    "            location = self._compute_loc(p)\n",
    "            ID = self.create_oval(location[0]+p.size(), location[1]+p.size(), location[0]-p.size(), location[1]-p.size(), fill=p.color())\n",
    "            p.set_graphic(ID)\n",
    "        self._outer = n\n",
    "        \n",
    "        \n",
    "        \n",
    "    def move_planets(self, lst):\n",
    "        for p in lst[:self._outer]:\n",
    "            current = self._current_loc(p)\n",
    "            new = self._compute_loc(p)\n",
    "            ID = p.graphic()\n",
    "            self.coords(ID, new[0]+p.size(), new[1]+p.size(), new[0]-p.size(), new[1]-p.size())\n",
    "            self.create_line(current[0], current[1], new[0], new[1], fill='black')\n",
    "        \n",
    "        \n",
    "    def _compute_scale(self, bodies):\n",
    "        p = min(self._height, self._width)\n",
    "        d = [abs(body.position().x()) for body in bodies]\n",
    "        dmax = max(d)\n",
    "        f = (p/2)/(1.05*dmax)\n",
    "        self._scale = f\n",
    "        \n",
    "    \n",
    "    def _compute_loc(self, p):\n",
    "        pos = p.position() * self._scale + self._offset\n",
    "        return pos.x(), pos.y()\n",
    "    \n",
    "    def _current_loc(self, p):\n",
    "        ul, ur, _, _ = self.coords(p.graphic())\n",
    "        return ul + p.size(), ur + p.size()\n",
    " "
   ]
  },
  {
   "cell_type": "markdown",
   "metadata": {
    "deletable": true,
    "editable": true,
    "outputExpanded": false
   },
   "source": [
    "##### <span style=\"color:red\">Tests:</span>"
   ]
  },
  {
   "cell_type": "markdown",
   "metadata": {
    "deletable": true,
    "editable": true,
    "nbgrader": {
     "grade": false,
     "locked": false,
     "points": 30,
     "solution": false
    },
    "outputExpanded": false
   },
   "source": [
    "Use the following code cell as a \"sandbox\" if you want to do your own tests of the ViewFrame class.  You can add additional cells here if you want."
   ]
  },
  {
   "cell_type": "code",
   "execution_count": 161,
   "metadata": {
    "collapsed": false,
    "deletable": true,
    "editable": true,
    "outputExpanded": false
   },
   "outputs": [],
   "source": [
    "if IPython:\n",
    "    canvas.set_planets(bodies)\n",
    "    canvas.view_planets(6)\n",
    "    assert [canvas.type(x) for x in canvas.find_all()].count('oval') == 6"
   ]
  },
  {
   "cell_type": "markdown",
   "metadata": {
    "deletable": true,
    "editable": true,
    "outputExpanded": false
   },
   "source": [
    "##### <span style=\"color:red\">Autograder Tests:</span>"
   ]
  },
  {
   "cell_type": "markdown",
   "metadata": {
    "deletable": true,
    "editable": true,
    "outputExpanded": false
   },
   "source": [
    "**Important:** &nbsp;  the code cells in this section will be used by `nbgrader` to run automated tests.  Do not move, delete or alter these cells in any way."
   ]
  },
  {
   "cell_type": "code",
   "execution_count": 179,
   "metadata": {
    "collapsed": false,
    "deletable": false,
    "editable": true,
    "nbgrader": {
     "checksum": "65ad2891a488aee9f58bf080b09c7799",
     "grade": false,
     "grade_id": "canvas_setup",
     "locked": true,
     "solution": false
    },
    "outputExpanded": false
   },
   "outputs": [],
   "source": [
    "if IPython:\n",
    "    canvas = SolarSystemCanvas(tk.Tk(), height=400, width=400)\n",
    "    canvas.pack()\n",
    "    bodies = read_bodies('solarsystem.txt', TkBody)"
   ]
  },
  {
   "cell_type": "code",
   "execution_count": 180,
   "metadata": {
    "collapsed": false,
    "deletable": false,
    "editable": true,
    "nbgrader": {
     "checksum": "80183fdbd79b155c385a02e7f465bb0a",
     "grade": true,
     "grade_id": "canvas_test1",
     "locked": true,
     "points": 2,
     "solution": false
    },
    "outputExpanded": false
   },
   "outputs": [],
   "source": [
    "if IPython:\n",
    "    canvas.set_planets(bodies)\n",
    "    canvas.view_planets(2)\n",
    "    assert [canvas.type(x) for x in canvas.find_all()].count('oval') == 2"
   ]
  },
  {
   "cell_type": "code",
   "execution_count": 181,
   "metadata": {
    "collapsed": false,
    "deletable": false,
    "editable": true,
    "nbgrader": {
     "checksum": "3858c814fccde48b9ae04a37f4d375da",
     "grade": true,
     "grade_id": "canvas_test2",
     "locked": true,
     "points": 3,
     "solution": false
    },
    "outputExpanded": false
   },
   "outputs": [],
   "source": [
    "if IPython:\n",
    "    for i in range(10):\n",
    "        step_system(bodies)\n",
    "        canvas.move_planets(bodies)\n",
    "    tk_objects = canvas.find_all()\n",
    "    assert len(tk_objects) == 22\n",
    "    assert [canvas.type(x) for x in tk_objects].count('line') == 20"
   ]
  },
  {
   "cell_type": "markdown",
   "metadata": {
    "editable": true,
    "outputExpanded": false
   },
   "source": [
    "##### <span style=\"color:red\">Documentation:</span>"
   ]
  },
  {
   "cell_type": "markdown",
   "metadata": {
    "deletable": false,
    "nbgrader": {
     "checksum": "c309cbcf2fbab71fda1dd01b0b08a51a",
     "grade": true,
     "grade_id": "canvas_doc",
     "locked": false,
     "points": 5,
     "solution": true
    }
   },
   "source": [
    "For part 2, I started with the _compute_scale method which was pretty straight forward. Then I moved on to the view_planets and move_planets methods. Which drew colored circles on the canvas and moved them leaving a \"trail\" (line) when they moved."
   ]
  },
  {
   "cell_type": "markdown",
   "metadata": {
    "deletable": true,
    "editable": true,
    "outputExpanded": false
   },
   "source": [
    "###  <span style=\"color:teal\">Part 3: &nbsp; ViewControl (20 points)</span>"
   ]
  },
  {
   "cell_type": "markdown",
   "metadata": {
    "deletable": true,
    "editable": true,
    "outputExpanded": false
   },
   "source": [
    "A ViewControl component allows the user to specify the number of planets to display on the canvas.  It's basically just a spinbox with a label, but with the extra behavior that the spinbox value can only between 2 (the canvas should always show at least the Sun and Mercury) and however many bodies are in the data set.\n",
    "\n",
    "The constructor will be passed a reference to a callback function.  You should pass this function to the constructor that makes the Spinbox widget inside the ViewFrame.\n",
    "\n",
    "You need to fill in the definition of the ViewFame class:\n",
    "* the constructor should create a Label and a Spinbox and add them to this frame\n",
    "* the `state` attribute of the Spinbox should initially be `tk.DISABLED` since we don't know yet what the maximum value is\n",
    "* the `reset` method will be passed an integer `n`; it should set the spinbox lower limit to 2, set the upper limit to `n`, set the current value to `n`, and enable the spinbox by setting its state to `tk.NORMAL`\n",
    "* the `nbodies` method should return 0 if the Spinbox is disable, otherwise it should return the current value in the spinbox, converted to an integer.\n",
    "\n",
    "**Important:** &nbsp; In order to pass autograder tests for ViewControl make sure you save a reference to the Spinbox in an instance variable named `_spinbox`"
   ]
  },
  {
   "cell_type": "markdown",
   "metadata": {
    "deletable": true,
    "editable": true,
    "outputExpanded": false
   },
   "source": [
    "##### <span style=\"color:red\">Code:</span>"
   ]
  },
  {
   "cell_type": "code",
   "execution_count": 224,
   "metadata": {
    "collapsed": false,
    "deletable": false,
    "editable": true,
    "nbgrader": {
     "checksum": "a072cb4ecea2ff79db758e785927131f",
     "grade": true,
     "grade_id": "view_control",
     "locked": false,
     "points": 10,
     "solution": true
    },
    "outputExpanded": false
   },
   "outputs": [],
   "source": [
    "class ViewControl(tk.Frame):\n",
    "    \n",
    "    def __init__(self, parent, callback):\n",
    "        tk.Frame.__init__(self, parent)\n",
    "        \n",
    "        self['width'] = 100             # <- the tests do not rely on these\n",
    "        self['height'] = 25             # <- assignments so you can delete\n",
    "        self['background'] = 'gray'     # <- them if you wish\n",
    "                \n",
    "        self._label = tk.Label(self, text=\"View:\")\n",
    "        self._label.grid(column=0, row=0, padx=20)\n",
    "        \n",
    "        self._spinbox = tk.Spinbox(self, state=tk.DISABLED, command=callback)\n",
    "        self._spinbox.grid(column=1, row=0, padx=20)\n",
    "        \n",
    "\n",
    "    def reset(self, nbodies):\n",
    "        self._spinbox['to']=nbodies\n",
    "        self._spinbox['from']=2\n",
    "        self._spinbox.delete(0, 'end')\n",
    "        self._spinbox.insert(0, nbodies)\n",
    "        self._spinbox['state']=tk.NORMAL\n",
    "        for x in range(nbodies):\n",
    "            self._spinbox.invoke('buttonup')\n",
    "        \n",
    "        \n",
    "    def nbodies(self):\n",
    "        if self._spinbox['state'] == tk.DISABLED:\n",
    "            return 0\n",
    "        else:\n",
    "            return int(self._spinbox().get())\n",
    "        \n"
   ]
  },
  {
   "cell_type": "markdown",
   "metadata": {
    "deletable": true,
    "editable": true,
    "outputExpanded": false
   },
   "source": [
    "##### <span style=\"color:red\">Tests:</span>"
   ]
  },
  {
   "cell_type": "markdown",
   "metadata": {
    "deletable": true,
    "editable": true,
    "nbgrader": {
     "grade": false,
     "locked": false,
     "points": 30,
     "solution": false
    },
    "outputExpanded": false
   },
   "source": [
    "Use the following code cell as a \"sandbox\" if you want to do your own tests of the ViewFrame class.  You can add additional cells here if you want."
   ]
  },
  {
   "cell_type": "code",
   "execution_count": null,
   "metadata": {
    "collapsed": true,
    "deletable": true,
    "editable": true,
    "outputExpanded": false
   },
   "outputs": [],
   "source": []
  },
  {
   "cell_type": "markdown",
   "metadata": {
    "deletable": true,
    "editable": true,
    "outputExpanded": false
   },
   "source": [
    "##### <span style=\"color:red\">Autograder Tests:</span>"
   ]
  },
  {
   "cell_type": "markdown",
   "metadata": {
    "deletable": true,
    "editable": true,
    "outputExpanded": false
   },
   "source": [
    "**Important:** &nbsp;  the code cells in this section will be used by `nbgrader` to run automated tests.  Do not move, delete or alter these cells in any way."
   ]
  },
  {
   "cell_type": "code",
   "execution_count": 225,
   "metadata": {
    "collapsed": false,
    "deletable": false,
    "editable": true,
    "nbgrader": {
     "checksum": "017109abcfcc183e278b78d97399ee99",
     "grade": false,
     "grade_id": "vf_setup",
     "locked": true,
     "solution": false
    },
    "outputExpanded": false
   },
   "outputs": [],
   "source": [
    "def vf_cb():\n",
    "    global called\n",
    "    called = True\n",
    "\n",
    "if IPython:\n",
    "    vf = ViewControl(tk.Tk(), vf_cb)\n",
    "    vf.pack()        "
   ]
  },
  {
   "cell_type": "code",
   "execution_count": 226,
   "metadata": {
    "collapsed": false,
    "deletable": false,
    "editable": true,
    "nbgrader": {
     "checksum": "7a0d53be1a6ed8d27c1d43f8a8b75b35",
     "grade": true,
     "grade_id": "vf_test_1",
     "locked": true,
     "points": 2,
     "solution": false
    },
    "outputExpanded": false
   },
   "outputs": [],
   "source": [
    "if IPython:\n",
    "    counts = { }\n",
    "    for x in vf.children.values():\n",
    "        counts.setdefault(type(x).__name__, 0)\n",
    "        counts[type(x).__name__] += 1\n",
    "    assert counts == { 'Label': 1, 'Spinbox': 1 }"
   ]
  },
  {
   "cell_type": "code",
   "execution_count": 227,
   "metadata": {
    "collapsed": false,
    "deletable": false,
    "editable": true,
    "nbgrader": {
     "checksum": "0154b5ee3fd956abee81c35c271b98a2",
     "grade": true,
     "grade_id": "vf_test_2",
     "locked": true,
     "points": 3,
     "solution": false
    },
    "outputExpanded": false
   },
   "outputs": [],
   "source": [
    "if IPython:\n",
    "    called = False\n",
    "    vf._spinbox.invoke('buttondown')\n",
    "    vf._spinbox.invoke('buttonup')\n",
    "    assert not called\n",
    "    \n",
    "    vf.reset(5)\n",
    "    assert vf._spinbox.get() == '5'\n",
    "    assert vf._spinbox['from'] == 2\n",
    "    assert vf._spinbox['to'] == 5\n",
    "\n",
    "    vf._spinbox.invoke('buttondown')\n",
    "    assert vf._spinbox.get() == '4'\n",
    "    vf._spinbox.invoke('buttonup')\n",
    "    assert vf._spinbox.get() == '5'\n",
    "    \n",
    "    assert called"
   ]
  },
  {
   "cell_type": "markdown",
   "metadata": {
    "deletable": true,
    "editable": true,
    "outputExpanded": false
   },
   "source": [
    "##### <span style=\"color:red\">Documentation:</span>"
   ]
  },
  {
   "cell_type": "markdown",
   "metadata": {
    "deletable": false,
    "editable": true,
    "nbgrader": {
     "checksum": "9d3913fa95421841c1534192082f5f15",
     "grade": true,
     "grade_id": "view_doc",
     "locked": false,
     "points": 5,
     "solution": true
    },
    "outputExpanded": false
   },
   "source": [
    "For Part 3, I created a \"view:\" label and a disabled spinbox. Then I created a method that would be passed an integer and would enable the spinbox and create its bounds from 2 to the given integer. "
   ]
  },
  {
   "cell_type": "markdown",
   "metadata": {
    "deletable": true,
    "editable": true,
    "outputExpanded": false
   },
   "source": [
    "###  <span style=\"color:teal\">Part 4: &nbsp; RunFrame (20 points)</span>"
   ]
  },
  {
   "cell_type": "markdown",
   "metadata": {
    "deletable": true,
    "editable": true,
    "outputExpanded": false
   },
   "source": [
    "This project is similar to the first one, but here you will fill out the definition of a class called RunFrame.  A RunFrame is a frame that has a run button, text entry boxes for the time step size and number of steps to run, and a progress bar to show how many steps have been executed.  \n",
    "\n",
    "The entry boxes for the time step size and number of steps should be initialized to show the default values for those parameters:  86459 for the time step size and 365 for the number of steps.\n",
    "\n",
    "After an application has created a RunFrame object named `r` it should be able to call the following methods to interact with `r`:\n",
    "* `r.dt()` returns the time step size from the time step entry box\n",
    "* `r.nsteps()` returns the number of time steps indicated in that entry box\n",
    "* `t.target(n)` sets the upper bound in the progress bar\n",
    "* `t.update_progress(n)` sets the value to show in the progress bar\n",
    "\n",
    "The constructor will be passed a reference to a callback function that will be called when the run button is pushed.  You should pass this function to the constructor that makes the Button.\n",
    "\n",
    "**Note:** &nbsp; In order to test your RunFrame we need to know the names you give to some of the parts of the frame.  Make sure you use the following instance variable names:\n",
    "* `_run_button` for the button that starts the simulation\n",
    "* `_dt_entry` for the entry box for time step size\n",
    "* `_nsteps_entry` for the entry box with the number of steps"
   ]
  },
  {
   "cell_type": "markdown",
   "metadata": {
    "deletable": true,
    "editable": true,
    "outputExpanded": false
   },
   "source": [
    "##### <span style=\"color:red\">Code:</span>"
   ]
  },
  {
   "cell_type": "markdown",
   "metadata": {
    "deletable": true,
    "editable": true,
    "outputExpanded": false
   },
   "source": [
    "**Important:** &nbsp; Add your Python code to the following code cell.  Do not delete, rename, or copy this cell."
   ]
  },
  {
   "cell_type": "code",
   "execution_count": 234,
   "metadata": {
    "collapsed": false,
    "deletable": false,
    "editable": true,
    "nbgrader": {
     "checksum": "1bc44d54791d8255cf04b437a744817c",
     "grade": true,
     "grade_id": "run_frame",
     "locked": false,
     "points": 5,
     "solution": true
    },
    "outputExpanded": false
   },
   "outputs": [],
   "source": [
    "class RunFrame(tk.Frame):\n",
    "    \n",
    "    def __init__(self, parent, callback):\n",
    "        tk.Frame.__init__(self, parent)\n",
    "        \n",
    "        self['width'] = 200\n",
    "        self['height'] = 100\n",
    "        self['background'] = 'gray'\n",
    "        \n",
    "        self._run_button = tk.Button(self, text='Run', command=callback)\n",
    "        self._run_button.grid(column=0, row=0, padx=10, pady=10)\n",
    "        \n",
    "        self._dt_label = tk.Label(self, text='dt:')\n",
    "        self._dt_label.grid(row=0, column=1, padx=10, pady=10)\n",
    "        \n",
    "        self._dt_entry = tk.Entry(self)\n",
    "        self._dt_entry.grid(row=0, column=2, padx=10, pady=10)\n",
    "        self._dt_entry.delete(0, tk.END)\n",
    "        self._dt_entry.insert(0, 86459)\n",
    "        \n",
    "        self._nsteps_label = tk.Label(self, text='nsteps')\n",
    "        self._nsteps_label.grid(row=1, column=1, padx=10, pady=10)\n",
    "        \n",
    "        self._nsteps_entry = tk.Entry(self)\n",
    "        self._nsteps_entry.grid(row=1, column=2, padx=10, pady=10)\n",
    "        self._nsteps_entry.delete(0, tk.END)\n",
    "        self._nsteps_entry.insert(0, 365)\n",
    "        \n",
    "        self._progress = ttk.Progressbar(self, orient='horizontal', mode='determinate')\n",
    "        self._progress.grid(row=2, column=2, padx=10, pady=10)\n",
    "        \n",
    "    def dt(self):\n",
    "        return int(self._dt_entry.get())\n",
    "        \n",
    "    \n",
    "    def nsteps(self):\n",
    "        return int(self._nsteps_entry.get())\n",
    "        \n",
    "        \n",
    "    def init_progress(self, n):\n",
    "        self._progress['maximum'] = n\n",
    "        \n",
    "        \n",
    "    def update_progress(self, n):\n",
    "        self._progress['value'] += n\n",
    "        \n",
    "        \n",
    "    def clear_progress(self):\n",
    "        self._progress['value'] = 0\n"
   ]
  },
  {
   "cell_type": "markdown",
   "metadata": {
    "deletable": true,
    "editable": true,
    "outputExpanded": false
   },
   "source": [
    "##### <span style=\"color:red\">Tests:</span>"
   ]
  },
  {
   "cell_type": "markdown",
   "metadata": {
    "deletable": true,
    "editable": true,
    "nbgrader": {
     "grade": false,
     "locked": false,
     "points": 30,
     "solution": false
    },
    "outputExpanded": false
   },
   "source": [
    "Use the following code cell as a \"sandbox\" if you want to do your own tests.  You can add additional cells here if you want."
   ]
  },
  {
   "cell_type": "code",
   "execution_count": null,
   "metadata": {
    "collapsed": true,
    "deletable": true,
    "editable": true,
    "outputExpanded": false
   },
   "outputs": [],
   "source": []
  },
  {
   "cell_type": "markdown",
   "metadata": {
    "deletable": true,
    "editable": true,
    "outputExpanded": false
   },
   "source": [
    "##### <span style=\"color:red\">Autograder Tests:</span>"
   ]
  },
  {
   "cell_type": "markdown",
   "metadata": {
    "deletable": true,
    "editable": true,
    "outputExpanded": false
   },
   "source": [
    "**Important:** &nbsp;  the code cells in this section will be used by `nbgrader` to run automated tests.  Do not move, delete or alter these cells in any way."
   ]
  },
  {
   "cell_type": "code",
   "execution_count": 235,
   "metadata": {
    "collapsed": false,
    "deletable": false,
    "editable": true,
    "nbgrader": {
     "checksum": "7cf9b054d9fbf1451cc6e42cbf1136ee",
     "grade": false,
     "grade_id": "rf_setup",
     "locked": true,
     "solution": false
    },
    "outputExpanded": false
   },
   "outputs": [],
   "source": [
    "def rf_cb():\n",
    "    global calls\n",
    "    calls += 1\n",
    "\n",
    "if IPython:\n",
    "    rf = RunFrame(tk.Tk(), rf_cb)\n",
    "    rf.pack()"
   ]
  },
  {
   "cell_type": "code",
   "execution_count": 236,
   "metadata": {
    "collapsed": false,
    "deletable": false,
    "editable": true,
    "nbgrader": {
     "checksum": "dcb99dd2e8f91ff595c8134b06375084",
     "grade": true,
     "grade_id": "rf_test1",
     "locked": true,
     "points": 3,
     "solution": false
    },
    "outputExpanded": false
   },
   "outputs": [],
   "source": [
    "if IPython:\n",
    "    counts = { }\n",
    "    for x in rf.children.values():\n",
    "        counts.setdefault(type(x).__name__, 0)\n",
    "        counts[type(x).__name__] += 1\n",
    "    assert counts['Button'] == 1\n",
    "    assert counts['Entry'] == 2\n",
    "    assert counts['Progressbar'] == 1\n",
    "    assert rf._dt_entry.get() == '86459'\n",
    "    assert rf._nsteps_entry.get() == '365'"
   ]
  },
  {
   "cell_type": "code",
   "execution_count": 237,
   "metadata": {
    "collapsed": false,
    "deletable": false,
    "editable": true,
    "nbgrader": {
     "checksum": "4a9ae15516eff46d3826818cd5c0eebe",
     "grade": true,
     "grade_id": "rf_test2",
     "locked": true,
     "points": 2,
     "solution": false
    },
    "outputExpanded": false
   },
   "outputs": [],
   "source": [
    "if IPython:\n",
    "    calls = 0\n",
    "    rf._run_button.invoke()\n",
    "    rf._run_button.invoke()\n",
    "    assert calls == 2"
   ]
  },
  {
   "cell_type": "code",
   "execution_count": 238,
   "metadata": {
    "collapsed": false,
    "deletable": false,
    "editable": true,
    "nbgrader": {
     "checksum": "29828bf5316fd7a029ba9aea6fcbd02a",
     "grade": true,
     "grade_id": "rf_test3",
     "locked": true,
     "points": 3,
     "solution": false
    },
    "outputExpanded": false
   },
   "outputs": [],
   "source": [
    "if IPython:\n",
    "    rf._dt_entry.delete(0, tk.END)\n",
    "    rf._dt_entry.insert(0, '100')\n",
    "    assert rf.dt() == 100\n",
    "    rf._nsteps_entry.delete(0, tk.END)\n",
    "    rf._nsteps_entry.insert(0, '1000')\n",
    "    assert rf.nsteps() == 1000"
   ]
  },
  {
   "cell_type": "code",
   "execution_count": 239,
   "metadata": {
    "collapsed": false,
    "deletable": false,
    "editable": true,
    "nbgrader": {
     "checksum": "adc469ac2150b1eb5bf1899154d95c08",
     "grade": true,
     "grade_id": "rf_test4",
     "locked": true,
     "points": 2,
     "solution": false
    },
    "outputExpanded": false
   },
   "outputs": [],
   "source": [
    "if IPython:\n",
    "    rf.init_progress(100)\n",
    "    for i in range(5):\n",
    "        rf.update_progress(10)\n",
    "    assert rf._progress['value'] == 50"
   ]
  },
  {
   "cell_type": "markdown",
   "metadata": {
    "deletable": true,
    "editable": true,
    "outputExpanded": false
   },
   "source": [
    "##### <span style=\"color:red\">Documentation:</span>"
   ]
  },
  {
   "cell_type": "markdown",
   "metadata": {
    "deletable": false,
    "editable": true,
    "nbgrader": {
     "checksum": "7d5220bf41635a7d51f94d644e2ea96b",
     "grade": true,
     "grade_id": "run_doc",
     "locked": false,
     "points": 5,
     "solution": true
    },
    "outputExpanded": false
   },
   "source": [
    "For Part 4, I made a number of labels, entries, and a progress bar along with a few methods that set values, updated the progress bar, and initalized the progress bar."
   ]
  },
  {
   "cell_type": "markdown",
   "metadata": {
    "deletable": true,
    "editable": true,
    "outputExpanded": false
   },
   "source": [
    "###  <span style=\"color:teal\">Top Level Application</span>"
   ]
  },
  {
   "cell_type": "markdown",
   "metadata": {
    "deletable": true,
    "editable": true,
    "outputExpanded": false
   },
   "source": [
    "The application that instantiates all the widgets and links them together is shown below. You do not need to write any code -- the program will work when all of your widget definitions are complete. If you execute this code cell in the Jupyter notebook you will get a working application that will allow you to load a set of planet definitions and run the simulatio.\n",
    "\n",
    "Even though you do not have to write anything you should look closely at this code since it will help you understand the methods you define in each of your components.\n",
    "\n",
    "To test your GUI, we will export the notebook to a command line application and run the application.  The graders will run the program and check the state of the canvas at the end of the simulation."
   ]
  },
  {
   "cell_type": "markdown",
   "metadata": {
    "deletable": true,
    "editable": true,
    "outputExpanded": false
   },
   "source": [
    "#### `load_cb` "
   ]
  },
  {
   "cell_type": "markdown",
   "metadata": {
    "deletable": true,
    "editable": true,
    "outputExpanded": false
   },
   "source": [
    "This function is called when the user clicks the Load button.  It uses a dialog to get the name of the file with planet definitions and reads the contents of the file to get a list of TkBody objects.  Notice how:\n",
    "* the list is passed to the `set_planets` method in the SolarSystemCanvas widget, which will draw circles for all the planets\n",
    "* the number of bodies is passed to the `reset` method in the ViewControl, which allows the user to click the up/down buttons to change the number of planets displayed"
   ]
  },
  {
   "cell_type": "markdown",
   "metadata": {
    "deletable": true,
    "editable": true,
    "outputExpanded": false
   },
   "source": [
    "#### `view_cb` "
   ]
  },
  {
   "cell_type": "markdown",
   "metadata": {
    "deletable": true,
    "editable": true,
    "outputExpanded": false
   },
   "source": [
    "This function is the callback for the ViewControl component.  Whenever the user changes the value of the counter the new value is passed to `view_planets` so the canvas is updated to show the new number of planets."
   ]
  },
  {
   "cell_type": "markdown",
   "metadata": {
    "deletable": true,
    "editable": true,
    "outputExpanded": false
   },
   "source": [
    "#### `run_cb` "
   ]
  },
  {
   "cell_type": "markdown",
   "metadata": {
    "deletable": true,
    "editable": true,
    "outputExpanded": false
   },
   "source": [
    "This function is the one that runs the simulation.  It is invoked when the user clicks the Run button in the RunFrame widget.  It gets the simulation parameters from the widget and then calls the `time_step` function to start the simulation.\n",
    "\n",
    "There body of the `time_step` function could just have a for loop that calls `step_system` for the specified number of time steps.  But since `run_cb` is a callback, Tk won't update the display until the callback is done, which means we won't see the planets move until after the last time step.\n",
    "\n",
    "The technique implemented here is pretty common in GUI programs.  It runs one time step and then uses the `after_idle` function to schedule a call to run the next time step 0.02 seconds later.  Once the next call is scheduled the callback exits and returns control to the GUI and we will see the planets moving."
   ]
  },
  {
   "cell_type": "code",
   "execution_count": 244,
   "metadata": {
    "collapsed": false,
    "deletable": true,
    "editable": true,
    "outputExpanded": false
   },
   "outputs": [
    {
     "name": "stderr",
     "output_type": "stream",
     "text": [
      "Exception in Tkinter callback\n",
      "Traceback (most recent call last):\n",
      "  File \"C:\\Users\\Jacob\\Anaconda3.new1\\lib\\tkinter\\__init__.py\", line 1550, in __call__\n",
      "    return self.func(*args)\n",
      "  File \"<ipython-input-244-b161955996aa>\", line 14, in view_cb\n",
      "    canvas.view_planets(view_count.nbodies())\n",
      "  File \"<ipython-input-224-4ab57fc82b72>\", line 31, in nbodies\n",
      "    return int(self._spinbox().get())\n",
      "TypeError: 'Spinbox' object is not callable\n",
      "Exception in Tkinter callback\n",
      "Traceback (most recent call last):\n",
      "  File \"C:\\Users\\Jacob\\Anaconda3.new1\\lib\\tkinter\\__init__.py\", line 1550, in __call__\n",
      "    return self.func(*args)\n",
      "  File \"<ipython-input-244-b161955996aa>\", line 14, in view_cb\n",
      "    canvas.view_planets(view_count.nbodies())\n",
      "  File \"<ipython-input-224-4ab57fc82b72>\", line 31, in nbodies\n",
      "    return int(self._spinbox().get())\n",
      "TypeError: 'Spinbox' object is not callable\n",
      "Exception in Tkinter callback\n",
      "Traceback (most recent call last):\n",
      "  File \"C:\\Users\\Jacob\\Anaconda3.new1\\lib\\tkinter\\__init__.py\", line 1550, in __call__\n",
      "    return self.func(*args)\n",
      "  File \"<ipython-input-244-b161955996aa>\", line 14, in view_cb\n",
      "    canvas.view_planets(view_count.nbodies())\n",
      "  File \"<ipython-input-224-4ab57fc82b72>\", line 31, in nbodies\n",
      "    return int(self._spinbox().get())\n",
      "TypeError: 'Spinbox' object is not callable\n",
      "Exception in Tkinter callback\n",
      "Traceback (most recent call last):\n",
      "  File \"C:\\Users\\Jacob\\Anaconda3.new1\\lib\\tkinter\\__init__.py\", line 1550, in __call__\n",
      "    return self.func(*args)\n",
      "  File \"<ipython-input-244-b161955996aa>\", line 14, in view_cb\n",
      "    canvas.view_planets(view_count.nbodies())\n",
      "  File \"<ipython-input-224-4ab57fc82b72>\", line 31, in nbodies\n",
      "    return int(self._spinbox().get())\n",
      "TypeError: 'Spinbox' object is not callable\n",
      "Exception in Tkinter callback\n",
      "Traceback (most recent call last):\n",
      "  File \"C:\\Users\\Jacob\\Anaconda3.new1\\lib\\tkinter\\__init__.py\", line 1550, in __call__\n",
      "    return self.func(*args)\n",
      "  File \"<ipython-input-244-b161955996aa>\", line 14, in view_cb\n",
      "    canvas.view_planets(view_count.nbodies())\n",
      "  File \"<ipython-input-224-4ab57fc82b72>\", line 31, in nbodies\n",
      "    return int(self._spinbox().get())\n",
      "TypeError: 'Spinbox' object is not callable\n",
      "Exception in Tkinter callback\n",
      "Traceback (most recent call last):\n",
      "  File \"C:\\Users\\Jacob\\Anaconda3.new1\\lib\\tkinter\\__init__.py\", line 1550, in __call__\n",
      "    return self.func(*args)\n",
      "  File \"<ipython-input-244-b161955996aa>\", line 14, in view_cb\n",
      "    canvas.view_planets(view_count.nbodies())\n",
      "  File \"<ipython-input-224-4ab57fc82b72>\", line 31, in nbodies\n",
      "    return int(self._spinbox().get())\n",
      "TypeError: 'Spinbox' object is not callable\n",
      "Exception in Tkinter callback\n",
      "Traceback (most recent call last):\n",
      "  File \"C:\\Users\\Jacob\\Anaconda3.new1\\lib\\tkinter\\__init__.py\", line 1550, in __call__\n",
      "    return self.func(*args)\n",
      "  File \"<ipython-input-244-b161955996aa>\", line 14, in view_cb\n",
      "    canvas.view_planets(view_count.nbodies())\n",
      "  File \"<ipython-input-224-4ab57fc82b72>\", line 31, in nbodies\n",
      "    return int(self._spinbox().get())\n",
      "TypeError: 'Spinbox' object is not callable\n",
      "Exception in Tkinter callback\n",
      "Traceback (most recent call last):\n",
      "  File \"C:\\Users\\Jacob\\Anaconda3.new1\\lib\\tkinter\\__init__.py\", line 1550, in __call__\n",
      "    return self.func(*args)\n",
      "  File \"<ipython-input-244-b161955996aa>\", line 14, in view_cb\n",
      "    canvas.view_planets(view_count.nbodies())\n",
      "  File \"<ipython-input-224-4ab57fc82b72>\", line 31, in nbodies\n",
      "    return int(self._spinbox().get())\n",
      "TypeError: 'Spinbox' object is not callable\n",
      "Exception in Tkinter callback\n",
      "Traceback (most recent call last):\n",
      "  File \"C:\\Users\\Jacob\\Anaconda3.new1\\lib\\tkinter\\__init__.py\", line 1550, in __call__\n",
      "    return self.func(*args)\n",
      "  File \"<ipython-input-244-b161955996aa>\", line 14, in view_cb\n",
      "    canvas.view_planets(view_count.nbodies())\n",
      "  File \"<ipython-input-224-4ab57fc82b72>\", line 31, in nbodies\n",
      "    return int(self._spinbox().get())\n",
      "TypeError: 'Spinbox' object is not callable\n",
      "Exception in Tkinter callback\n",
      "Traceback (most recent call last):\n",
      "  File \"C:\\Users\\Jacob\\Anaconda3.new1\\lib\\tkinter\\__init__.py\", line 1550, in __call__\n",
      "    return self.func(*args)\n",
      "  File \"<ipython-input-244-b161955996aa>\", line 14, in view_cb\n",
      "    canvas.view_planets(view_count.nbodies())\n",
      "  File \"<ipython-input-224-4ab57fc82b72>\", line 31, in nbodies\n",
      "    return int(self._spinbox().get())\n",
      "TypeError: 'Spinbox' object is not callable\n",
      "Exception in Tkinter callback\n",
      "Traceback (most recent call last):\n",
      "  File \"C:\\Users\\Jacob\\Anaconda3.new1\\lib\\tkinter\\__init__.py\", line 1550, in __call__\n",
      "    return self.func(*args)\n",
      "  File \"<ipython-input-244-b161955996aa>\", line 14, in view_cb\n",
      "    canvas.view_planets(view_count.nbodies())\n",
      "  File \"<ipython-input-224-4ab57fc82b72>\", line 31, in nbodies\n",
      "    return int(self._spinbox().get())\n",
      "TypeError: 'Spinbox' object is not callable\n",
      "Exception in Tkinter callback\n",
      "Traceback (most recent call last):\n",
      "  File \"C:\\Users\\Jacob\\Anaconda3.new1\\lib\\tkinter\\__init__.py\", line 1550, in __call__\n",
      "    return self.func(*args)\n",
      "  File \"<ipython-input-244-b161955996aa>\", line 14, in view_cb\n",
      "    canvas.view_planets(view_count.nbodies())\n",
      "  File \"<ipython-input-224-4ab57fc82b72>\", line 31, in nbodies\n",
      "    return int(self._spinbox().get())\n",
      "TypeError: 'Spinbox' object is not callable\n",
      "Exception in Tkinter callback\n",
      "Traceback (most recent call last):\n",
      "  File \"C:\\Users\\Jacob\\Anaconda3.new1\\lib\\tkinter\\__init__.py\", line 1550, in __call__\n",
      "    return self.func(*args)\n",
      "  File \"<ipython-input-244-b161955996aa>\", line 14, in view_cb\n",
      "    canvas.view_planets(view_count.nbodies())\n",
      "  File \"<ipython-input-224-4ab57fc82b72>\", line 31, in nbodies\n",
      "    return int(self._spinbox().get())\n",
      "TypeError: 'Spinbox' object is not callable\n",
      "Exception in Tkinter callback\n",
      "Traceback (most recent call last):\n",
      "  File \"C:\\Users\\Jacob\\Anaconda3.new1\\lib\\tkinter\\__init__.py\", line 1550, in __call__\n",
      "    return self.func(*args)\n",
      "  File \"<ipython-input-244-b161955996aa>\", line 14, in view_cb\n",
      "    canvas.view_planets(view_count.nbodies())\n",
      "  File \"<ipython-input-224-4ab57fc82b72>\", line 31, in nbodies\n",
      "    return int(self._spinbox().get())\n",
      "TypeError: 'Spinbox' object is not callable\n",
      "Exception in Tkinter callback\n",
      "Traceback (most recent call last):\n",
      "  File \"C:\\Users\\Jacob\\Anaconda3.new1\\lib\\tkinter\\__init__.py\", line 1550, in __call__\n",
      "    return self.func(*args)\n",
      "  File \"<ipython-input-244-b161955996aa>\", line 14, in view_cb\n",
      "    canvas.view_planets(view_count.nbodies())\n",
      "  File \"<ipython-input-224-4ab57fc82b72>\", line 31, in nbodies\n",
      "    return int(self._spinbox().get())\n",
      "TypeError: 'Spinbox' object is not callable\n",
      "Exception in Tkinter callback\n",
      "Traceback (most recent call last):\n",
      "  File \"C:\\Users\\Jacob\\Anaconda3.new1\\lib\\tkinter\\__init__.py\", line 1550, in __call__\n",
      "    return self.func(*args)\n",
      "  File \"<ipython-input-244-b161955996aa>\", line 14, in view_cb\n",
      "    canvas.view_planets(view_count.nbodies())\n",
      "  File \"<ipython-input-224-4ab57fc82b72>\", line 31, in nbodies\n",
      "    return int(self._spinbox().get())\n",
      "TypeError: 'Spinbox' object is not callable\n",
      "Exception in Tkinter callback\n",
      "Traceback (most recent call last):\n",
      "  File \"C:\\Users\\Jacob\\Anaconda3.new1\\lib\\tkinter\\__init__.py\", line 1550, in __call__\n",
      "    return self.func(*args)\n",
      "  File \"<ipython-input-244-b161955996aa>\", line 14, in view_cb\n",
      "    canvas.view_planets(view_count.nbodies())\n",
      "  File \"<ipython-input-224-4ab57fc82b72>\", line 31, in nbodies\n",
      "    return int(self._spinbox().get())\n",
      "TypeError: 'Spinbox' object is not callable\n",
      "Exception in Tkinter callback\n",
      "Traceback (most recent call last):\n",
      "  File \"C:\\Users\\Jacob\\Anaconda3.new1\\lib\\tkinter\\__init__.py\", line 1550, in __call__\n",
      "    return self.func(*args)\n",
      "  File \"<ipython-input-244-b161955996aa>\", line 14, in view_cb\n",
      "    canvas.view_planets(view_count.nbodies())\n",
      "  File \"<ipython-input-224-4ab57fc82b72>\", line 31, in nbodies\n",
      "    return int(self._spinbox().get())\n",
      "TypeError: 'Spinbox' object is not callable\n",
      "Exception in Tkinter callback\n",
      "Traceback (most recent call last):\n",
      "  File \"C:\\Users\\Jacob\\Anaconda3.new1\\lib\\tkinter\\__init__.py\", line 1550, in __call__\n",
      "    return self.func(*args)\n",
      "  File \"<ipython-input-244-b161955996aa>\", line 14, in view_cb\n",
      "    canvas.view_planets(view_count.nbodies())\n",
      "  File \"<ipython-input-224-4ab57fc82b72>\", line 31, in nbodies\n",
      "    return int(self._spinbox().get())\n",
      "TypeError: 'Spinbox' object is not callable\n",
      "Exception in Tkinter callback\n",
      "Traceback (most recent call last):\n",
      "  File \"C:\\Users\\Jacob\\Anaconda3.new1\\lib\\tkinter\\__init__.py\", line 1550, in __call__\n",
      "    return self.func(*args)\n",
      "  File \"<ipython-input-244-b161955996aa>\", line 14, in view_cb\n",
      "    canvas.view_planets(view_count.nbodies())\n",
      "  File \"<ipython-input-224-4ab57fc82b72>\", line 31, in nbodies\n",
      "    return int(self._spinbox().get())\n",
      "TypeError: 'Spinbox' object is not callable\n",
      "Exception in Tkinter callback\n",
      "Traceback (most recent call last):\n",
      "  File \"C:\\Users\\Jacob\\Anaconda3.new1\\lib\\tkinter\\__init__.py\", line 1550, in __call__\n",
      "    return self.func(*args)\n",
      "  File \"<ipython-input-244-b161955996aa>\", line 14, in view_cb\n",
      "    canvas.view_planets(view_count.nbodies())\n",
      "  File \"<ipython-input-224-4ab57fc82b72>\", line 31, in nbodies\n",
      "    return int(self._spinbox().get())\n",
      "TypeError: 'Spinbox' object is not callable\n",
      "Exception in Tkinter callback\n",
      "Traceback (most recent call last):\n",
      "  File \"C:\\Users\\Jacob\\Anaconda3.new1\\lib\\tkinter\\__init__.py\", line 1550, in __call__\n",
      "    return self.func(*args)\n",
      "  File \"<ipython-input-244-b161955996aa>\", line 14, in view_cb\n",
      "    canvas.view_planets(view_count.nbodies())\n",
      "  File \"<ipython-input-224-4ab57fc82b72>\", line 31, in nbodies\n",
      "    return int(self._spinbox().get())\n",
      "TypeError: 'Spinbox' object is not callable\n",
      "Exception in Tkinter callback\n",
      "Traceback (most recent call last):\n",
      "  File \"C:\\Users\\Jacob\\Anaconda3.new1\\lib\\tkinter\\__init__.py\", line 1550, in __call__\n",
      "    return self.func(*args)\n",
      "  File \"<ipython-input-244-b161955996aa>\", line 14, in view_cb\n",
      "    canvas.view_planets(view_count.nbodies())\n",
      "  File \"<ipython-input-224-4ab57fc82b72>\", line 31, in nbodies\n",
      "    return int(self._spinbox().get())\n",
      "TypeError: 'Spinbox' object is not callable\n",
      "Exception in Tkinter callback\n",
      "Traceback (most recent call last):\n",
      "  File \"C:\\Users\\Jacob\\Anaconda3.new1\\lib\\tkinter\\__init__.py\", line 1550, in __call__\n",
      "    return self.func(*args)\n",
      "  File \"<ipython-input-244-b161955996aa>\", line 14, in view_cb\n",
      "    canvas.view_planets(view_count.nbodies())\n",
      "  File \"<ipython-input-224-4ab57fc82b72>\", line 31, in nbodies\n",
      "    return int(self._spinbox().get())\n",
      "TypeError: 'Spinbox' object is not callable\n",
      "Exception in Tkinter callback\n",
      "Traceback (most recent call last):\n",
      "  File \"C:\\Users\\Jacob\\Anaconda3.new1\\lib\\tkinter\\__init__.py\", line 1550, in __call__\n",
      "    return self.func(*args)\n",
      "  File \"<ipython-input-244-b161955996aa>\", line 14, in view_cb\n",
      "    canvas.view_planets(view_count.nbodies())\n",
      "  File \"<ipython-input-224-4ab57fc82b72>\", line 31, in nbodies\n",
      "    return int(self._spinbox().get())\n",
      "TypeError: 'Spinbox' object is not callable\n",
      "Exception in Tkinter callback\n",
      "Traceback (most recent call last):\n",
      "  File \"C:\\Users\\Jacob\\Anaconda3.new1\\lib\\tkinter\\__init__.py\", line 1550, in __call__\n",
      "    return self.func(*args)\n",
      "  File \"<ipython-input-244-b161955996aa>\", line 14, in view_cb\n",
      "    canvas.view_planets(view_count.nbodies())\n",
      "  File \"<ipython-input-224-4ab57fc82b72>\", line 31, in nbodies\n",
      "    return int(self._spinbox().get())\n",
      "TypeError: 'Spinbox' object is not callable\n",
      "Exception in Tkinter callback\n",
      "Traceback (most recent call last):\n",
      "  File \"C:\\Users\\Jacob\\Anaconda3.new1\\lib\\tkinter\\__init__.py\", line 1550, in __call__\n",
      "    return self.func(*args)\n",
      "  File \"<ipython-input-244-b161955996aa>\", line 14, in view_cb\n",
      "    canvas.view_planets(view_count.nbodies())\n",
      "  File \"<ipython-input-224-4ab57fc82b72>\", line 31, in nbodies\n",
      "    return int(self._spinbox().get())\n",
      "TypeError: 'Spinbox' object is not callable\n",
      "Exception in Tkinter callback\n",
      "Traceback (most recent call last):\n",
      "  File \"C:\\Users\\Jacob\\Anaconda3.new1\\lib\\tkinter\\__init__.py\", line 1550, in __call__\n",
      "    return self.func(*args)\n",
      "  File \"<ipython-input-244-b161955996aa>\", line 14, in view_cb\n",
      "    canvas.view_planets(view_count.nbodies())\n",
      "  File \"<ipython-input-224-4ab57fc82b72>\", line 31, in nbodies\n",
      "    return int(self._spinbox().get())\n",
      "TypeError: 'Spinbox' object is not callable\n",
      "Exception in Tkinter callback\n",
      "Traceback (most recent call last):\n",
      "  File \"C:\\Users\\Jacob\\Anaconda3.new1\\lib\\tkinter\\__init__.py\", line 1550, in __call__\n",
      "    return self.func(*args)\n",
      "  File \"<ipython-input-244-b161955996aa>\", line 14, in view_cb\n",
      "    canvas.view_planets(view_count.nbodies())\n",
      "  File \"<ipython-input-224-4ab57fc82b72>\", line 31, in nbodies\n",
      "    return int(self._spinbox().get())\n",
      "TypeError: 'Spinbox' object is not callable\n",
      "Exception in Tkinter callback\n",
      "Traceback (most recent call last):\n",
      "  File \"C:\\Users\\Jacob\\Anaconda3.new1\\lib\\tkinter\\__init__.py\", line 1550, in __call__\n",
      "    return self.func(*args)\n",
      "  File \"<ipython-input-244-b161955996aa>\", line 14, in view_cb\n",
      "    canvas.view_planets(view_count.nbodies())\n",
      "  File \"<ipython-input-224-4ab57fc82b72>\", line 31, in nbodies\n",
      "    return int(self._spinbox().get())\n",
      "TypeError: 'Spinbox' object is not callable\n",
      "Exception in Tkinter callback\n",
      "Traceback (most recent call last):\n",
      "  File \"C:\\Users\\Jacob\\Anaconda3.new1\\lib\\tkinter\\__init__.py\", line 1550, in __call__\n",
      "    return self.func(*args)\n",
      "  File \"<ipython-input-244-b161955996aa>\", line 14, in view_cb\n",
      "    canvas.view_planets(view_count.nbodies())\n",
      "  File \"<ipython-input-224-4ab57fc82b72>\", line 31, in nbodies\n",
      "    return int(self._spinbox().get())\n",
      "TypeError: 'Spinbox' object is not callable\n",
      "Exception in Tkinter callback\n",
      "Traceback (most recent call last):\n",
      "  File \"C:\\Users\\Jacob\\Anaconda3.new1\\lib\\tkinter\\__init__.py\", line 1550, in __call__\n",
      "    return self.func(*args)\n",
      "  File \"<ipython-input-244-b161955996aa>\", line 14, in view_cb\n",
      "    canvas.view_planets(view_count.nbodies())\n",
      "  File \"<ipython-input-224-4ab57fc82b72>\", line 31, in nbodies\n",
      "    return int(self._spinbox().get())\n",
      "TypeError: 'Spinbox' object is not callable\n",
      "Exception in Tkinter callback\n",
      "Traceback (most recent call last):\n",
      "  File \"C:\\Users\\Jacob\\Anaconda3.new1\\lib\\tkinter\\__init__.py\", line 1550, in __call__\n",
      "    return self.func(*args)\n",
      "  File \"<ipython-input-244-b161955996aa>\", line 14, in view_cb\n",
      "    canvas.view_planets(view_count.nbodies())\n",
      "  File \"<ipython-input-224-4ab57fc82b72>\", line 31, in nbodies\n",
      "    return int(self._spinbox().get())\n",
      "TypeError: 'Spinbox' object is not callable\n",
      "Exception in Tkinter callback\n",
      "Traceback (most recent call last):\n",
      "  File \"C:\\Users\\Jacob\\Anaconda3.new1\\lib\\tkinter\\__init__.py\", line 1550, in __call__\n",
      "    return self.func(*args)\n",
      "  File \"<ipython-input-244-b161955996aa>\", line 14, in view_cb\n",
      "    canvas.view_planets(view_count.nbodies())\n",
      "  File \"<ipython-input-224-4ab57fc82b72>\", line 31, in nbodies\n",
      "    return int(self._spinbox().get())\n",
      "TypeError: 'Spinbox' object is not callable\n",
      "Exception in Tkinter callback\n",
      "Traceback (most recent call last):\n",
      "  File \"C:\\Users\\Jacob\\Anaconda3.new1\\lib\\tkinter\\__init__.py\", line 1550, in __call__\n",
      "    return self.func(*args)\n",
      "  File \"<ipython-input-244-b161955996aa>\", line 14, in view_cb\n",
      "    canvas.view_planets(view_count.nbodies())\n",
      "  File \"<ipython-input-224-4ab57fc82b72>\", line 31, in nbodies\n",
      "    return int(self._spinbox().get())\n",
      "TypeError: 'Spinbox' object is not callable\n"
     ]
    }
   ],
   "source": [
    "root = tk.Tk()\n",
    "root.title(\"Solar System\")\n",
    "\n",
    "bodies = None\n",
    "\n",
    "def load_cb():\n",
    "    global bodies\n",
    "    fn = tk.filedialog.askopenfilename()\n",
    "    bodies = read_bodies(fn, TkBody)\n",
    "    canvas.set_planets(bodies)\n",
    "    view_count.reset(len(bodies))\n",
    "\n",
    "def view_cb():\n",
    "    canvas.view_planets(view_count.nbodies())\n",
    "    \n",
    "def run_cb():\n",
    "    \n",
    "    def time_step():\n",
    "        nonlocal nsteps\n",
    "        step_system(bodies, dt)\n",
    "        canvas.move_planets(bodies)\n",
    "        run_frame.update_progress(1)\n",
    "        sleep(0.02)\n",
    "        if nsteps > 0:\n",
    "            nsteps -= 1\n",
    "            canvas.after_idle(time_step)\n",
    "        else:\n",
    "            run_frame.clear_progress()\n",
    "        \n",
    "    nsteps = run_frame.nsteps()\n",
    "    run_frame.init_progress(nsteps)\n",
    "    dt = run_frame.dt()\n",
    "    canvas.after_idle(time_step)\n",
    "\n",
    "canvas = SolarSystemCanvas(root)\n",
    "canvas.grid(row = 0, column = 0, columnspan = 3, padx = 10, pady = 10, sticky=\"nsew\")\n",
    "\n",
    "tk.Button(root, text='Load', command=load_cb).grid(row=1, column=0, pady = 20)\n",
    "\n",
    "view_count = ViewControl(root, view_cb)\n",
    "view_count.grid(row=1, column=1, pady=20)\n",
    "\n",
    "run_frame = RunFrame(root, run_cb)\n",
    "run_frame.grid(row=1, column=2, pady=20)\n",
    "\n",
    "if Main and not IPython:\n",
    "    try:\n",
    "        bodies = read_bodies(\"solarsystem.txt\", TkBody)\n",
    "        canvas.set_planets(bodies)\n",
    "        view_count.reset(len(bodies))\n",
    "        for i in range(5):\n",
    "            view_count._spinbox.invoke('buttondown')\n",
    "        run_frame._nsteps_entry.delete(0, tk.END)\n",
    "        run_frame._nsteps_entry.insert(0,'100')\n",
    "        root.update()\n",
    "        run_frame._run_button.invoke()\n",
    "    except Exception as err:\n",
    "        print(err)\n",
    "    input('hit return to continue...')\n"
   ]
  },
  {
   "cell_type": "markdown",
   "metadata": {
    "editable": true,
    "outputExpanded": false
   },
   "source": [
    "##### <span style=\"color:red\">Simulation Score</span>"
   ]
  },
  {
   "cell_type": "markdown",
   "metadata": {},
   "source": [
    "**Important:** &nbsp; You do not have to write anything for this part of the project.  Leave the cell below empty, in spite of the fact that is says \"your documentation here\".\n",
    "\n",
    "The graders will use the cell to write comments about your GUI and to enter the grade for your solar system simulation.  **Do not edit, move, rename, or delete the following cell.**"
   ]
  },
  {
   "cell_type": "markdown",
   "metadata": {
    "collapsed": true,
    "deletable": false,
    "editable": true,
    "nbgrader": {
     "checksum": "a6fed4f4cb028159f2b96f18bfefa35f",
     "grade": true,
     "grade_id": "simulation",
     "locked": false,
     "points": 20,
     "solution": true
    },
    "outputExpanded": false
   },
   "source": [
    "YOUR DOCUMENTATION HERE"
   ]
  }
 ],
 "metadata": {
  "anaconda-cloud": {},
  "kernel_info": {
   "name": "python3"
  },
  "kernelspec": {
   "display_name": "Python [default]",
   "language": "python",
   "name": "python3"
  },
  "language_info": {
   "codemirror_mode": {
    "name": "ipython",
    "version": 3
   },
   "file_extension": ".py",
   "mimetype": "text/x-python",
   "name": "python",
   "nbconvert_exporter": "python",
   "pygments_lexer": "ipython3",
   "version": "3.5.2"
  }
 },
 "nbformat": 4,
 "nbformat_minor": 0
}
