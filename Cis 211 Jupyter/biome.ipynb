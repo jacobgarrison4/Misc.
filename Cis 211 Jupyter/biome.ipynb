{
 "cells": [
  {
   "cell_type": "markdown",
   "metadata": {},
   "source": [
    "# <span style=\"color:teal;\">CIS 211 Project 8:  &nbsp; Bears and Fish</span>"
   ]
  },
  {
   "cell_type": "markdown",
   "metadata": {},
   "source": [
    "##### Due 11:00 P.M. Thursday Mar 16"
   ]
  },
  {
   "cell_type": "markdown",
   "metadata": {},
   "source": [
    "##### <span style=\"color:red\">Group Members:</span>"
   ]
  },
  {
   "cell_type": "markdown",
   "metadata": {},
   "source": [
    "Group work is allowed for this project, but groups are exepcted to do more work (see markdown cells at the end of the notebook for suggestions and ideas).  \n",
    "\n",
    "If you work in a group only one group member should upload this notebook to Canvas.  Edit this cell to include the name and DuckID for each member of the group:"
   ]
  },
  {
   "cell_type": "markdown",
   "metadata": {
    "nbgrader": {
     "grade": false,
     "locked": false,
     "points": 0,
     "solution": false
    }
   },
   "source": [
    "**Name:**\n",
    "\n",
    "**Name:**\n",
    "\n",
    "**Name:**"
   ]
  },
  {
   "cell_type": "markdown",
   "metadata": {},
   "source": [
    "##  <span style=\"color:teal;\">Overview</span> "
   ]
  },
  {
   "cell_type": "markdown",
   "metadata": {},
   "source": [
    "The last project this term is a cellular automaton style biological simulation.  \n",
    "\n",
    "The sytem is described in Chapter 11 of the Miller and Ranum text.  **Read the description of the simulation in the textbook before you start working on this project.**  Your code will be quite a bit different than the code in the book, but the rules of the simulation are the same, and you need to know how objects interact.\n",
    "\n",
    "The project has three main parts:\n",
    "* A class named World that defines a 2D grid where cells are accessed according to their row and column coordinates\n",
    "* Classes for Bear and Fish, the organisms that can inhabit the world\n",
    "* Two top level functions, `wbf` and `step_system`; the first will make a world and populate it at random with bears and fish, and the second will run a simulation using that world.\n",
    "\n",
    "We're written `step_system` for you -- it's in the last code cell in this notebook -- but you need to design, implement, and test the classes and the `wbf` function."
   ]
  },
  {
   "cell_type": "markdown",
   "metadata": {},
   "source": [
    "##  <span style=\"color:teal;\">Libraries</span> "
   ]
  },
  {
   "cell_type": "markdown",
   "metadata": {},
   "source": [
    "Your program will need to use `numpy` (a numeric processing library) and `random` (the builtin random number generator module).  You can import additional modules if you wish; add the import statements to this code cell."
   ]
  },
  {
   "cell_type": "code",
   "execution_count": 5,
   "metadata": {},
   "outputs": [],
   "source": [
    "import numpy as np\n",
    "import random\n",
    "import turtle"
   ]
  },
  {
   "cell_type": "markdown",
   "metadata": {},
   "source": [
    "##  <span style=\"color:teal;\">Event Log</span> "
   ]
  },
  {
   "cell_type": "markdown",
   "metadata": {},
   "source": [
    "A useful debugging technique is to save descriptions of events in a log.  Any code in the simulator, whether it is the top level function or a method in one of your classes, can call a function named `log`, passing it a description of an event that just occurred.  Examples might be \n",
    "```\n",
    "new Fish in cell (x,y)\n",
    "```\n",
    "or \n",
    "```\n",
    "Bear in cell (x,y) eats Fish in cell (x,y)\n",
    "```\n",
    "\n",
    "The function below uses a global variable named `logging`.  If you want to take advantage of the `log` function:\n",
    "* edit the cell to set `logging` to True\n",
    "* add calls to `log` at various points in your methods\n",
    "\n",
    "Later, when doing large scale simulations, you can turn off logging simply by setting `logging` to False before you call the top level simulation function.\n",
    "\n",
    "**Note:** &nbsp; you can change the definition of the `log` function however you want, _e.g._ you can have it write log messages to a file or printadditional information."
   ]
  },
  {
   "cell_type": "code",
   "execution_count": null,
   "metadata": {
    "collapsed": true
   },
   "outputs": [],
   "source": [
    "logging = False\n",
    "\n",
    "def log(message):\n",
    "    if logging:\n",
    "        print(message)"
   ]
  },
  {
   "cell_type": "markdown",
   "metadata": {},
   "source": [
    "##  <span style=\"color:teal;\">World (20 points)</span>"
   ]
  },
  {
   "cell_type": "markdown",
   "metadata": {},
   "source": [
    "Describe your World class in the following markdown cell, and write the code for the class in the code cell below the markdown cell.\n",
    "\n",
    "The minimum requiremens for this class are:\n",
    "* the constructor should be passed the grid size (number of rows and columns)\n",
    "* all cells should contain `None` when the world is initialized; later they can contain references to Fish or Bear objects\n",
    "* include a method named `biota` that returns a list of Fish and Bear objects currently in the grid\n",
    "\n",
    "You should also define the methods that allow you to access a cell or store a value in a cell using Python's indexing operator.  For example, if `w` is a World object, `w[i,j]` should return the object in row `i`, column `j` (which could be None).  You should also be able to store an item in the grid by using `w[i,j]` on the left side of an assignment statement.\n",
    "\n",
    "You can have additional instance methods, class variables, or class methods.  Make sure you describe any new additions in the documentation.\n",
    "\n",
    "**Note:** &nbsp; There are no auto-grader tests for the World class; tests for this class will be done as part of the tests for the Bear and Fish classes."
   ]
  },
  {
   "cell_type": "markdown",
   "metadata": {},
   "source": [
    "##### <span style=color:red>Documentation</span> "
   ]
  },
  {
   "cell_type": "markdown",
   "metadata": {},
   "source": [
    "**Important** Write your documentation in the following markdown cell.  Do not delete or move this cell."
   ]
  },
  {
   "cell_type": "markdown",
   "metadata": {
    "deletable": false,
    "nbgrader": {
     "checksum": "01f3afaf338295648a9e34f9ecbb2a59",
     "grade": true,
     "grade_id": "world_doc",
     "locked": false,
     "points": 5,
     "solution": true
    }
   },
   "source": [
    "My world class initializes max parameters for the world, creates a list of created animals, creates a grid of the world, and sets a bear and fish count to 0. The __repr__ function makes a copy of the grid and prints out the same grid with imagwes of the bears and fish and their ID number. The world class has other methods that: Increment counters, set points in the grid, and add/delete things from the list and grid."
   ]
  },
  {
   "cell_type": "markdown",
   "metadata": {},
   "source": [
    "##### <span style=color:red>Code</span> "
   ]
  },
  {
   "cell_type": "markdown",
   "metadata": {},
   "source": [
    "**Important** Write the definition of your World class in the following code cell. Do not delete or move this cell."
   ]
  },
  {
   "cell_type": "code",
   "execution_count": 6,
   "metadata": {
    "deletable": false,
    "nbgrader": {
     "checksum": "e65d9e141f72678833aa23eeda28b6ac",
     "grade": true,
     "grade_id": "world",
     "locked": false,
     "points": 15,
     "solution": true
    }
   },
   "outputs": [],
   "source": [
    "class World:\n",
    "    \n",
    "    def __init__(self, mx, my):\n",
    "        \n",
    "        self._maxX = mx\n",
    "        self._maxY = my\n",
    "        self._thingList = np.array([None] * (self._maxX * self._maxY))\n",
    "        self._grid = self._thingList.reshape(self._maxX, self._maxY)\n",
    "        self.bearCount = 0\n",
    "        self.fishCount = 0\n",
    "            \n",
    "        self.Bear_pic = \"\\U0001F43B\"\n",
    "        self.Fish_pic = \"\\U0001F41F\"\n",
    "        \n",
    "        self.wturtle = turtle.Turtle()\n",
    "        self.wscreen = turtle.Screen()\n",
    "        self.wscreen.setworldcoordinates(0, 0, self._maxX - 1, self._maxY - 1)\n",
    "        self.wturtle.hideturtle()\n",
    "        \n",
    "    def __repr__(self):\n",
    "        \n",
    "        printList = np.array([None] * (self._maxX * self._maxY))\n",
    "        printGrid = self._thingList.reshape(self._maxX, self._maxY)\n",
    "\n",
    "        \n",
    "        for i in range(self._maxX):\n",
    "            for j in range(self._maxY):\n",
    "                if self._grid[i, j] == None:\n",
    "                    pass\n",
    "                elif isinstance(self._grid[i, j], Fish):\n",
    "                    printGrid[i, j] = self.Fish_pic + str(self._grid[i, j].fish_id)\n",
    "                elif isinstance(self._grid[i, j], Bear):\n",
    "                    printGrid[i, j] = self.Bear_pic + str(self._grid[i, j].bear_id)\n",
    "                    \n",
    "        return \"%s\" % (printGrid)\n",
    "        \n",
    "    def draw(self):\n",
    "        \n",
    "        self.wscreen.tracer(0)\n",
    "        self.wturtle.forward(self._maxX - 1)\n",
    "        self.wturtle.left(90)\n",
    "        self.wturtle.forward(self._maxY - 1)\n",
    "        self.wturtle.left(90)\n",
    "        self.wturtle.forward(self._maxX - 1)\n",
    "        self.wturtle.left(90)\n",
    "        self.wturtle.forward(self._maxY - 1)\n",
    "        self.wturtle.left(90)\n",
    "        \n",
    "        for i in range(self._maxY - 1):\n",
    "            self.wturtle.forward(self._maxX - 1)\n",
    "            self.wturtle.backward(self._maxX - 1)\n",
    "            self.wturtle.left(90)\n",
    "            self.wturtle.forward(1)\n",
    "            self.wturtle.right(90)\n",
    "        \n",
    "        self.wturtle.forward(1)\n",
    "        self.wturtle.right(90)\n",
    "        \n",
    "        for i in range(self._maxX - 2):\n",
    "            self.wturtle.forward(self._maxY - 1)\n",
    "            self.wturtle.backward(self._maxY - 1)\n",
    "            self.wturtle.left(90)\n",
    "            self.wturtle.forward(1)\n",
    "            self.wturtle.right(90)\n",
    "            \n",
    "        self.wscreen.tracer(1)\n",
    "        \n",
    "    def biota(self):\n",
    "        \n",
    "        animal_list = []\n",
    "        for animal in self._thingList:\n",
    "            if animal != None:\n",
    "                animal_list.append(animal)\n",
    "        return animal_list\n",
    "        \n",
    "    def __getitem__(self, x, y):\n",
    "        \n",
    "        return self._grid[x, y]\n",
    "    \n",
    "    def __setitem__(self, x, y, value):\n",
    "        \n",
    "        self._grid[x, y] = (value)\n",
    "        \n",
    "    def freezeWorld(self):\n",
    "        \n",
    "        self.wscreen.exitonclick()\n",
    "        \n",
    "    def addThing(self, thing, x, y):\n",
    "        \n",
    "        thing.setX(x)\n",
    "        thing.setY(y)\n",
    "        if isinstance(thing, Fish):\n",
    "            self.incFish()\n",
    "            self.__setitem__(x, y, thing)\n",
    "        else:\n",
    "            self.incBear()\n",
    "            self.__setitem__(x, y, thing)\n",
    "        thing.appear()\n",
    "        \n",
    "    def delThing(self, thing):\n",
    "        \n",
    "        thing.hide()\n",
    "        self._grid[thing.getX()][thing.getY()] = None\n",
    "        if isinstance(thing, Bear):\n",
    "            thing._world.decBear()\n",
    "        else:\n",
    "            thing._world.decFish()\n",
    "        \n",
    "    def moveThing(self, oldx, oldy, newx, newy):\n",
    "        \n",
    "        self._grid[newy][newx] = self._grid[oldy][oldx]\n",
    "        self._grid[oldy][oldx] = None\n",
    "        \n",
    "    def getMaxX(self):\n",
    "        \n",
    "        return self._maxX\n",
    "    \n",
    "    def getMaxY(self):\n",
    "        \n",
    "        return self._maxY\n",
    "    \n",
    "    def liveALittle(self): #chooses a random fish or bear to live during that time period\n",
    "        \n",
    "        if self.thingList != []:\n",
    "            thing = random.randrange(len(self.thingList))\n",
    "            randomthing = self._thingList[thing]\n",
    "            randomthing.liveALittle()\n",
    "            \n",
    "    def emptyLocation(self, x, y):\n",
    "        \n",
    "        if self._grid[x, y] == None:\n",
    "            return True\n",
    "        else:\n",
    "            return False\n",
    "        \n",
    "    def lookAtLocation(self, x, y):\n",
    "        \n",
    "        return self._grid[x, y]\n",
    "    \n",
    "    def getNumBear(self):\n",
    "        \n",
    "        return self.bearCount\n",
    "    \n",
    "    def getNumFish(self):\n",
    "        \n",
    "        return self.fishCount\n",
    "    \n",
    "    def incBear(self):\n",
    "        \n",
    "        self.bearCount += 1\n",
    "                    \n",
    "    def decBear(self):\n",
    "        \n",
    "        self.bearCount -= 1\n",
    "        \n",
    "    def incFish(self):\n",
    "        \n",
    "        self.fishCount += 1\n",
    "        \n",
    "    def decFish(self):\n",
    "        \n",
    "        self.fishCount -= 1"
   ]
  },
  {
   "cell_type": "markdown",
   "metadata": {
    "collapsed": true
   },
   "source": [
    "## <span style=\"color:teal;\">Fish and Bears</span>"
   ]
  },
  {
   "cell_type": "markdown",
   "metadata": {},
   "source": [
    "To run a simulation we need to add a random collection of animals to the world.  The two types of animals in this simulation are fish and bears, and you will write class definitions named Fish and Bear that implement the behaviors of the animals."
   ]
  },
  {
   "cell_type": "markdown",
   "metadata": {},
   "source": [
    "### Fish Class"
   ]
  },
  {
   "cell_type": "markdown",
   "metadata": {},
   "source": [
    "During the simulation a Fish object needs to behave as follows:\n",
    "\n",
    "(1) Fish are susceptible to overcrowding:  if there are fish in 2 or more neighboring cells the fish dies (it's removed from the simulation)\n",
    "\n",
    "(2) A fish can reproduce if it has been alive for a certain number of time steps: a random neighboring cell is chosen, and if that cell is empty, a new fish is placed in that cell\n",
    "\n",
    "(3) A fish can move to another cell:  it picks a random direction, and if the neighboring cell in that direction is unoccupied the fish moves there\n",
    "\n",
    "The constructor for the Fish class will be passed a reference to a World object and a location, in the form of a tuple with a row number and column number (the object needs to know its location so it can look for other objects in neighboring cells).\n",
    "\n",
    "The class should include the following methods:\n",
    "* `live` implements rules 1 and 2 shown above\n",
    "* `move` implements rule 3\n",
    "* `location` returns the current grid location (row and column) of the object\n",
    "\n",
    "Define a class variable named `breed_interval` to specify how many time steps a fish must be alive before it reproduces; the initial value for this variable is 12.\n"
   ]
  },
  {
   "cell_type": "markdown",
   "metadata": {},
   "source": [
    "### Bear Class"
   ]
  },
  {
   "cell_type": "markdown",
   "metadata": {},
   "source": [
    "During the simulation a Bear object needs to behave as follows:\n",
    "\n",
    "(1) A bear looks for fish in each adjacent cell; if it finds one or more fish it eats one at random \n",
    "\n",
    "(2) If a bear has not eaten for certain number of time steps it dies (it's removed from the simulation)\n",
    "\n",
    "(3) A bear can reproduce if it has been alive for a certain number of time steps: a random neighboring cell is chosen, and if that cell is empty, a new bear is placed in that cell\n",
    "\n",
    "(4) A bear can move to another cell:  it picks a random direction, and if the neighboring cell in that direction is unoccupied the bear moves there\n",
    "\n",
    "Define a class variable named `breed_interval` to specify how many time steps a bear must be alive before it reproduces; the initial value for this variable is 8.  Define another class variable named `survive_without_food` to be the number of time steps a bear can live before it dies from starvation; the initial value for this variable is 10.\n",
    "\n",
    "The constructor will be passed a reference to a World object and a location, in the form of a tuple with a row number and column number (the object needs to know its location so it can look for other objects in neighboring cells).\n",
    "\n",
    "The class should include the following methods:\n",
    "* `live` implements rules 1, 2, and 3 shown above\n",
    "* `move` implements rule 4\n",
    "* `location` returns the current grid location (row and column) of the object"
   ]
  },
  {
   "cell_type": "markdown",
   "metadata": {},
   "source": [
    "### Animal (Base Class)?"
   ]
  },
  {
   "cell_type": "markdown",
   "metadata": {},
   "source": [
    "From the descriptions above it should be apparent that fish and bears have some things in common.\n",
    "\n",
    "For **full credit** on the coding and documnetation portions of this project you should define a class named Animal and use it as the base class for your Fish and Bear classes.  Some things to think about as you design your classes:\n",
    "* are there behaviors or operations that are common to both and that can be implemented just once in Animal?\n",
    "* perhaps a behavior or operation can be defined with a default in the Animal class, and then overridden in the derived class?\n",
    "\n",
    "One strategy you might consider is to write a complete implementation for one class, either Bear or Fish.  After you have debugged the class and it passes its unit tests you'll have a better idea of what to implement in the other class.  Then you can start moving common behaviors to the Animal class while you are writing the other derived class.\n",
    "\n",
    "You can still receive **partial credit** if you skip the Animal class and simply write completely separate Fish and Bear classes.  None of the unit tests assume there is a class named Animal."
   ]
  },
  {
   "cell_type": "markdown",
   "metadata": {},
   "source": [
    "### Details and Hints"
   ]
  },
  {
   "cell_type": "markdown",
   "metadata": {},
   "source": [
    "**Fish:** &nbsp; The way the simulation is defined a fish might be eaten before the top level simulation calls the `live` method.  Your `live` method should check to make sure the fish is still alive.  The easiest way to do this is to include an instance variable named `_alive` that is set to True when the fish is initialized and set to False when it dies.\n",
    "\n",
    "You can have additional instance methods, class variables, or class methods.  Make sure you describe any new additions in the documentation.\n",
    "\n",
    "**Animal:** &nbsp; Keep this in mind when you design the class hierarchy: every object has an attribute named ``__class__`` (with two underscores before and after the name).  It is a reference to the class an object was defined with.  As an example of how to use it, consider what would happen if we want to define `reproduce` in the Animal class so it is inherited by both Fish and Bear classes.  We need to know the value of `breed_interval` in each object's own class.  We can find this value using the expression\n",
    "```\n",
    "self.__class__.breed_interval\n",
    "```\n",
    "This will be a reference to `Fish.breed_interval` or `Bear.breed_interval`, depending on whether a `reproduce` was called with Fish object or Bear object.\n"
   ]
  },
  {
   "cell_type": "markdown",
   "metadata": {
    "collapsed": true
   },
   "source": [
    "### <span style=\"color:teal;\">Animal (20 points)</span>"
   ]
  },
  {
   "cell_type": "markdown",
   "metadata": {},
   "source": [
    "##### <span style=color:red>Documentation</span> "
   ]
  },
  {
   "cell_type": "markdown",
   "metadata": {},
   "source": [
    "If you implement the Animal class write your documentation in the following markdown cell.  \n",
    "\n",
    "**Important** Do not delete or move this cell."
   ]
  },
  {
   "cell_type": "markdown",
   "metadata": {
    "deletable": false,
    "nbgrader": {
     "checksum": "986898dea06ca2d2febeb3ffb1074ab3",
     "grade": true,
     "grade_id": "animal_doc",
     "locked": false,
     "points": 10,
     "solution": true
    }
   },
   "source": [
    "My Animal base class initializes points on the grid for each bear and fish created, and sets a breed counter to 0. This class has methods that: set and get coordinates, breed, move, and eat."
   ]
  },
  {
   "cell_type": "markdown",
   "metadata": {},
   "source": [
    "##### <span style=color:red>Code</span> "
   ]
  },
  {
   "cell_type": "markdown",
   "metadata": {},
   "source": [
    "If you implement the Animal class write the definition in the following code cell\n",
    "\n",
    "**Important:** &nbsp; Do not delete or move this cell."
   ]
  },
  {
   "cell_type": "code",
   "execution_count": null,
   "metadata": {
    "deletable": false,
    "nbgrader": {
     "checksum": "3ab9549a288942d068326e50e49d4d3e",
     "grade": true,
     "grade_id": "animal",
     "locked": false,
     "points": 10,
     "solution": true
    }
   },
   "outputs": [],
   "source": [
    "offsetList = [(-1,1), (0,1), (1,1),\n",
    "              (-1,0),         (1,0),\n",
    "             (-1,-1), (0,-1), (1,-1)]\n",
    "        \n",
    "\n",
    "class Animal:\n",
    "    \n",
    "    def __init__(self):\n",
    "        \n",
    "        self.turtle = turtle.Turtle()\n",
    "        self.turtle.up()\n",
    "        self.turtle.hideturtle()\n",
    "        \n",
    "        self.xpos = 0\n",
    "        self.ypos = 0\n",
    "        self._alive = True\n",
    "        self.breedTick = 0\n",
    "        \n",
    "    def setX(self, newX):\n",
    "        \n",
    "        self.xpos = newX\n",
    "        \n",
    "    def setY(self, newY):\n",
    "        \n",
    "        self.ypos = newY\n",
    "        \n",
    "    def getX(self):\n",
    "        \n",
    "        return self.xpos\n",
    "    \n",
    "    def getY(self):\n",
    "        \n",
    "        return self.ypos\n",
    "    \n",
    "    def location(self):\n",
    "        \n",
    "        return (self.getX(), self.getY())\n",
    "    \n",
    "    def setWorld(self, aworld):\n",
    "        \n",
    "        self._world = aworld\n",
    "        \n",
    "    def appear(self):\n",
    "        \n",
    "        self.turtle.goto(self.xpos, self.ypos)\n",
    "        self.turtle.showturtle()\n",
    "        \n",
    "    def hide(self):\n",
    "        \n",
    "        self.turtle.hideturtle()\n",
    "        self._alive = False\n",
    "        \n",
    "    def move(self):\n",
    "        \n",
    "        return self.tryToMove()\n",
    "        \n",
    "    def tryToBreed(self):\n",
    "        \n",
    "        randomOffsetIndex = random.randrange(len(offsetList))\n",
    "        randomOffset = offsetList[randomOffsetIndex]\n",
    "        \n",
    "        nextx = self.xpos + randomOffset[0]\n",
    "        nexty = self.ypos + randomOffset[1]\n",
    "        \n",
    "        while not (0 <= nextx < self._world.getMaxX() and 0 <= nexty < self._world.getMaxY()):\n",
    "            ranodmOffsetIndex = random.randrange(len(offsetList))\n",
    "            randomOffset = offsetList[randomOffsetIndex]\n",
    "            nextx = self.xpos + randomOffset[0]\n",
    "            nexty = self.ypos + randomOffset[1]\n",
    "            \n",
    "        if self._world.emptyLocation(nextx, nexty):\n",
    "            loc = (nextx, nexty)\n",
    "            if isinstance(self._world.lookAtLocation(self.xpos, self.ypos), Fish):\n",
    "                childThing = Fish(self._world, loc)\n",
    "                self.breedTick = 0\n",
    "            else:\n",
    "                childThing = Bear(self._world, loc)\n",
    "                \n",
    "    def tryToEat(self):\n",
    "        \n",
    "        adjprey = []\n",
    "        \n",
    "        for offset in offsetList:\n",
    "                newx = self.xpos + offset[0]\n",
    "                newy = self.ypos + offset[1]\n",
    "                if 0 <= newx < self._world.getMaxX() and 0 <= newy < self._world.getMaxY():\n",
    "                    if (not self._world.emptyLocation(newx, newy)) and isinstance(self._world.lookAtLocation(newx, newy), Fish):\n",
    "                        adjprey.append(self._world.lookAtLocation(newx, newy))                \n",
    "        \n",
    "        if len(adjprey) > 0:\n",
    "            randomprey = adjprey[random.randrange(len(adjprey))]\n",
    "            preyx = randomprey.getX()\n",
    "            preyy = randomprey.getY()\n",
    "            \n",
    "            self._world.delThing(randomprey)\n",
    "            self.survive_without_food == 0\n",
    "        else:\n",
    "            self.starveTick += 1\n",
    "            \n",
    "    def tryToMove(self):\n",
    "        \n",
    "        randomOffsetIndex = random.randrange(len(offsetList))\n",
    "        randomOffset = offsetList[randomOffsetIndex]\n",
    "        \n",
    "        nextx = self.xpos + randomOffset[0]\n",
    "        nexty = self.ypos + randomOffset[1]\n",
    "        \n",
    "        while not (0 <= nextx < self._world.getMaxX() and 0 <= nexty < self._world.getMaxY()):\n",
    "            ranodmOffsetIndex = random.randrange(len(offsetList))\n",
    "            randomOffset = offsetList[randomOffsetIndex]\n",
    "            nextx = self.xpos + randomOffset[0]\n",
    "            nexty = self.ypos + randomOffset[1]\n",
    "            \n",
    "        if self._world.emptyLocation(nextx, nexty):\n",
    "            self._world.moveThing(self.getX(), self.getY(), nextx, nexty)\n",
    "            self.setX(nextx)\n",
    "            self.setY(nexty)\n",
    "            self.turtle.goto(self.xpos, self.ypos)"
   ]
  },
  {
   "cell_type": "markdown",
   "metadata": {
    "collapsed": true
   },
   "source": [
    "### <span style=\"color:teal;\">Fish (20 points)</span>"
   ]
  },
  {
   "cell_type": "markdown",
   "metadata": {},
   "source": [
    "##### <span style=color:red>Documentation</span> "
   ]
  },
  {
   "cell_type": "markdown",
   "metadata": {},
   "source": [
    "**Important:** &nbsp; Write the documentation for your Fish class in the following markdown cell.  Do not delete or move this cell."
   ]
  },
  {
   "cell_type": "markdown",
   "metadata": {
    "deletable": false,
    "nbgrader": {
     "checksum": "770b6a6bacc3948526ac069ce547b553",
     "grade": true,
     "grade_id": "fish_doc",
     "locked": false,
     "points": 5,
     "solution": true
    }
   },
   "source": [
    "My Fish class sets two class variables, overcrowd and a breed interval to the given amounts. it uses the worlds addThing method to add the fish and sets an id number for the fish. It also has a live method that tells the given fish to breed, eat and/or move."
   ]
  },
  {
   "cell_type": "markdown",
   "metadata": {},
   "source": [
    "##### <span style=color:red>Code</span> "
   ]
  },
  {
   "cell_type": "markdown",
   "metadata": {},
   "source": [
    "**Important:** &nbsp; Write the Python code for your Fish class in the following code cell.  Do not delete or move this cell."
   ]
  },
  {
   "cell_type": "code",
   "execution_count": 8,
   "metadata": {
    "deletable": false,
    "nbgrader": {
     "checksum": "e370f19380738e8e035b8a3de3696caa",
     "grade": true,
     "grade_id": "fish",
     "locked": false,
     "points": 7,
     "solution": true
    }
   },
   "outputs": [],
   "source": [
    "class Fish(Animal):\n",
    "    \n",
    "    _overcrowd = 2\n",
    "    breed_interval = 12\n",
    "    \n",
    "    def __init__(self, world, loc):\n",
    "        \n",
    "        super().__init__()\n",
    "        self.setWorld(world)\n",
    "        self._world.addThing(self, loc[0], loc[1])\n",
    "        self.fish_id = self._world.getNumFish()\n",
    "        \n",
    "    def live(self):\n",
    "        \n",
    "        adjFish = 0\n",
    "        \n",
    "        for offset in offsetList:\n",
    "            newx = self.xpos + offset[0]\n",
    "            newy = self.ypos + offset[1]\n",
    "            if 0 <= newx < self._world.getMaxX() and 0 <= newy < self._world.getMaxY():\n",
    "                    if (not self._world.emptyLocation(newx, newy)) and isinstance(self._world.lookAtLocation(newx, newy), Fish):\n",
    "                            adjFish += 1\n",
    "        \n",
    "        if adjFish >= self._overcrowd:\n",
    "            self._world.delThing(self)\n",
    "        else:\n",
    "            self.breedTick += 1\n",
    "            if self.breedTick >= self.breed_interval:\n",
    "                self.tryToBreed()\n",
    "                \n",
    "            self.move()\n",
    "            \n",
    "    def getOvercrowd(self):\n",
    "        \n",
    "        return self._overcrowd\n",
    "    \n",
    "    def getBreedInterval(self):\n",
    "        \n",
    "        return self.breed_interval\n",
    "    \n",
    "    def setOvercrowd(self, x):\n",
    "        \n",
    "        self._overcrowd = x\n",
    "        \n",
    "    def setBreedInterval(self, x):\n",
    "        \n",
    "        self.breed_interval = x"
   ]
  },
  {
   "cell_type": "markdown",
   "metadata": {},
   "source": [
    "##### <span style=\"color:red\">Autograder Tests:</span>"
   ]
  },
  {
   "cell_type": "markdown",
   "metadata": {},
   "source": [
    "**Important:** &nbsp;  the code cells in this section will be used by `nbgrader` to run automated tests.  Do not move, delete or alter these cells in any way."
   ]
  },
  {
   "cell_type": "code",
   "execution_count": 9,
   "metadata": {
    "deletable": false,
    "nbgrader": {
     "checksum": "c32c52d57b358f858a8a11bc8345abc2",
     "grade": true,
     "grade_id": "fish_test_1",
     "locked": true,
     "points": 2,
     "solution": false
    }
   },
   "outputs": [
    {
     "name": "stdout",
     "output_type": "stream",
     "text": [
      "[None None None None None None None None None None None None\n",
      " <__main__.Fish object at 0x0000024DB7EE3940> None None None None None None\n",
      " None None None None None None]\n",
      "[[None None None None None]\n",
      " [None None None None None]\n",
      " [None None <__main__.Fish object at 0x0000024DB7EE3940> None None]\n",
      " [None None None None None]\n",
      " [None None None None None]]\n"
     ]
    },
    {
     "data": {
      "text/plain": [
       "[[None None None None None]\n",
       " [None None None None None]\n",
       " [None None '🐟1' None None]\n",
       " [None None None None None]\n",
       " [None None None None None]]"
      ]
     },
     "execution_count": 9,
     "metadata": {},
     "output_type": "execute_result"
    }
   ],
   "source": [
    "# A new world has no objects\n",
    "w1 = World(5,5)\n",
    "assert len(w1.biota()) == 0\n",
    "\n",
    "# After adding a fish there should be one object\n",
    "f1 = Fish(w1, (2,2))\n",
    "assert len(w1.biota()) == 1\n",
    "\n",
    "# Test the location method\n",
    "assert f1.location() == (2,2)\n",
    "print(w1._thingList)\n",
    "print(w1._grid)\n",
    "w1"
   ]
  },
  {
   "cell_type": "code",
   "execution_count": 10,
   "metadata": {
    "deletable": false,
    "nbgrader": {
     "checksum": "610108aff14c976d2ed17a3cd8d0fac9",
     "grade": true,
     "grade_id": "fish_test_2",
     "locked": true,
     "points": 2,
     "solution": false
    }
   },
   "outputs": [
    {
     "name": "stdout",
     "output_type": "stream",
     "text": [
      "[[None None None None None]\n",
      " [None <__main__.Fish object at 0x0000024DB948D1D0> None None None]\n",
      " [None <__main__.Fish object at 0x0000024DB948D710> None None None]\n",
      " [None None None None None]\n",
      " [None None None None None]]\n"
     ]
    },
    {
     "data": {
      "text/plain": [
       "[[None None None None None]\n",
       " [None '🐟2' None None None]\n",
       " [None '🐟1' None None None]\n",
       " [None None None None None]\n",
       " [None None None None None]]"
      ]
     },
     "execution_count": 10,
     "metadata": {},
     "output_type": "execute_result"
    }
   ],
   "source": [
    "# Setting breed_interval to 1 should cause a fish to reproduce when live is called\n",
    "w2 = World(5,5)\n",
    "Fish.breed_interval = 1\n",
    "f2 = Fish(w2, (2,2))\n",
    "f2.live()\n",
    "print(w2._grid)\n",
    "assert len(w2.biota()) == 2\n",
    "# Reset the interval to original value for remaining tests\n",
    "Fish.breed_interval = 12\n",
    "w2"
   ]
  },
  {
   "cell_type": "code",
   "execution_count": 11,
   "metadata": {
    "deletable": false,
    "nbgrader": {
     "checksum": "1397054478e00a955967fa6aa32ee72c",
     "grade": true,
     "grade_id": "fish_test_3",
     "locked": true,
     "points": 2,
     "solution": false
    }
   },
   "outputs": [
    {
     "name": "stdout",
     "output_type": "stream",
     "text": [
      "[[None None None None None]\n",
      " [None <__main__.Fish object at 0x0000024DB9474710> None None None]\n",
      " [None None <__main__.Fish object at 0x0000024DB94747F0> None None]\n",
      " [None None None <__main__.Fish object at 0x0000024DB9474978> None]\n",
      " [None None None None None]]\n"
     ]
    },
    {
     "ename": "NameError",
     "evalue": "name 'Bear' is not defined",
     "output_type": "error",
     "traceback": [
      "\u001b[0;31m---------------------------------------------------------------------------\u001b[0m",
      "\u001b[0;31mNameError\u001b[0m                                 Traceback (most recent call last)",
      "\u001b[0;32m<ipython-input-11-a936e68af80e>\u001b[0m in \u001b[0;36m<module>\u001b[0;34m()\u001b[0m\n\u001b[1;32m      5\u001b[0m \u001b[0mFish\u001b[0m\u001b[1;33m(\u001b[0m\u001b[0mw3\u001b[0m\u001b[1;33m,\u001b[0m \u001b[1;33m(\u001b[0m\u001b[1;36m3\u001b[0m\u001b[1;33m,\u001b[0m\u001b[1;36m3\u001b[0m\u001b[1;33m)\u001b[0m\u001b[1;33m)\u001b[0m\u001b[1;33m\u001b[0m\u001b[0m\n\u001b[1;32m      6\u001b[0m \u001b[0mprint\u001b[0m\u001b[1;33m(\u001b[0m\u001b[0mw3\u001b[0m\u001b[1;33m.\u001b[0m\u001b[0m_grid\u001b[0m\u001b[1;33m)\u001b[0m\u001b[1;33m\u001b[0m\u001b[0m\n\u001b[0;32m----> 7\u001b[0;31m \u001b[0mf3\u001b[0m\u001b[1;33m.\u001b[0m\u001b[0mlive\u001b[0m\u001b[1;33m(\u001b[0m\u001b[1;33m)\u001b[0m\u001b[1;33m\u001b[0m\u001b[0m\n\u001b[0m\u001b[1;32m      8\u001b[0m \u001b[1;32massert\u001b[0m \u001b[0mlen\u001b[0m\u001b[1;33m(\u001b[0m\u001b[0mw3\u001b[0m\u001b[1;33m.\u001b[0m\u001b[0mbiota\u001b[0m\u001b[1;33m(\u001b[0m\u001b[1;33m)\u001b[0m\u001b[1;33m)\u001b[0m \u001b[1;33m==\u001b[0m \u001b[1;36m2\u001b[0m\u001b[1;33m\u001b[0m\u001b[0m\n\u001b[1;32m      9\u001b[0m \u001b[0mprint\u001b[0m\u001b[1;33m(\u001b[0m\u001b[0mw3\u001b[0m\u001b[1;33m.\u001b[0m\u001b[0m_grid\u001b[0m\u001b[1;33m)\u001b[0m\u001b[1;33m\u001b[0m\u001b[0m\n",
      "\u001b[0;32m<ipython-input-8-bd70e2260290>\u001b[0m in \u001b[0;36mlive\u001b[0;34m(self)\u001b[0m\n\u001b[1;32m     23\u001b[0m \u001b[1;33m\u001b[0m\u001b[0m\n\u001b[1;32m     24\u001b[0m         \u001b[1;32mif\u001b[0m \u001b[0madjFish\u001b[0m \u001b[1;33m>=\u001b[0m \u001b[0mself\u001b[0m\u001b[1;33m.\u001b[0m\u001b[0m_overcrowd\u001b[0m\u001b[1;33m:\u001b[0m\u001b[1;33m\u001b[0m\u001b[0m\n\u001b[0;32m---> 25\u001b[0;31m             \u001b[0mself\u001b[0m\u001b[1;33m.\u001b[0m\u001b[0m_world\u001b[0m\u001b[1;33m.\u001b[0m\u001b[0mdelThing\u001b[0m\u001b[1;33m(\u001b[0m\u001b[0mself\u001b[0m\u001b[1;33m)\u001b[0m\u001b[1;33m\u001b[0m\u001b[0m\n\u001b[0m\u001b[1;32m     26\u001b[0m         \u001b[1;32melse\u001b[0m\u001b[1;33m:\u001b[0m\u001b[1;33m\u001b[0m\u001b[0m\n\u001b[1;32m     27\u001b[0m             \u001b[0mself\u001b[0m\u001b[1;33m.\u001b[0m\u001b[0mbreedTick\u001b[0m \u001b[1;33m+=\u001b[0m \u001b[1;36m1\u001b[0m\u001b[1;33m\u001b[0m\u001b[0m\n",
      "\u001b[0;32m<ipython-input-6-d52ab0a23b4e>\u001b[0m in \u001b[0;36mdelThing\u001b[0;34m(self, thing)\u001b[0m\n\u001b[1;32m    102\u001b[0m         \u001b[0mthing\u001b[0m\u001b[1;33m.\u001b[0m\u001b[0mhide\u001b[0m\u001b[1;33m(\u001b[0m\u001b[1;33m)\u001b[0m\u001b[1;33m\u001b[0m\u001b[0m\n\u001b[1;32m    103\u001b[0m         \u001b[0mself\u001b[0m\u001b[1;33m.\u001b[0m\u001b[0m_grid\u001b[0m\u001b[1;33m[\u001b[0m\u001b[0mthing\u001b[0m\u001b[1;33m.\u001b[0m\u001b[0mgetX\u001b[0m\u001b[1;33m(\u001b[0m\u001b[1;33m)\u001b[0m\u001b[1;33m]\u001b[0m\u001b[1;33m[\u001b[0m\u001b[0mthing\u001b[0m\u001b[1;33m.\u001b[0m\u001b[0mgetY\u001b[0m\u001b[1;33m(\u001b[0m\u001b[1;33m)\u001b[0m\u001b[1;33m]\u001b[0m \u001b[1;33m=\u001b[0m \u001b[1;32mNone\u001b[0m\u001b[1;33m\u001b[0m\u001b[0m\n\u001b[0;32m--> 104\u001b[0;31m         \u001b[1;32mif\u001b[0m \u001b[0misinstance\u001b[0m\u001b[1;33m(\u001b[0m\u001b[0mthing\u001b[0m\u001b[1;33m,\u001b[0m \u001b[0mBear\u001b[0m\u001b[1;33m)\u001b[0m\u001b[1;33m:\u001b[0m\u001b[1;33m\u001b[0m\u001b[0m\n\u001b[0m\u001b[1;32m    105\u001b[0m             \u001b[0mthing\u001b[0m\u001b[1;33m.\u001b[0m\u001b[0m_world\u001b[0m\u001b[1;33m.\u001b[0m\u001b[0mdecBear\u001b[0m\u001b[1;33m(\u001b[0m\u001b[1;33m)\u001b[0m\u001b[1;33m\u001b[0m\u001b[0m\n\u001b[1;32m    106\u001b[0m         \u001b[1;32melse\u001b[0m\u001b[1;33m:\u001b[0m\u001b[1;33m\u001b[0m\u001b[0m\n",
      "\u001b[0;31mNameError\u001b[0m: name 'Bear' is not defined"
     ]
    }
   ],
   "source": [
    "# Make three fish, the one in the middle should die from overcrowding\n",
    "w3 = World(5,5)\n",
    "f3 = Fish(w3, (2,2))\n",
    "Fish(w3, (1,1))\n",
    "Fish(w3, (3,3))\n",
    "print(w3._grid)\n",
    "f3.live()\n",
    "assert len(w3.biota()) == 2\n",
    "print(w3._grid)\n",
    "w3"
   ]
  },
  {
   "cell_type": "code",
   "execution_count": null,
   "metadata": {
    "deletable": false,
    "nbgrader": {
     "checksum": "3e1ce3278dcd94d3f07d4701542b7df8",
     "grade": true,
     "grade_id": "fish_test_4",
     "locked": true,
     "points": 2,
     "solution": false
    }
   },
   "outputs": [],
   "source": [
    "# When a fish moves it should be within one cell of its original location\n",
    "w4 = World(5,5)\n",
    "f4 = Fish(w4, (2,2))\n",
    "print(w4._grid)\n",
    "f4.move()\n",
    "print(w4._grid)\n",
    "r, c = f4.location()\n",
    "assert (r,c) != (2,2)\n",
    "assert abs(r-2) <= 1 and abs(c-2) <= 1\n",
    "w4"
   ]
  },
  {
   "cell_type": "markdown",
   "metadata": {},
   "source": [
    "###  <span style=\"color:teal;\">Bear (20 points)</span>"
   ]
  },
  {
   "cell_type": "markdown",
   "metadata": {},
   "source": [
    "##### <span style=color:red>Documentation</span> "
   ]
  },
  {
   "cell_type": "markdown",
   "metadata": {},
   "source": [
    "**Important:** &nbsp; Write the documentation for your Bear class in the following markdown cell.  Do not delete or move this cell."
   ]
  },
  {
   "cell_type": "markdown",
   "metadata": {
    "deletable": false,
    "nbgrader": {
     "checksum": "745360994a43da361e98fe01baa7f1c2",
     "grade": true,
     "grade_id": "bear_doc",
     "locked": false,
     "points": 3,
     "solution": true
    }
   },
   "source": [
    "My bear class is very similar to my fish class, the only difference being that the beat has a survive_without_food counter that can delete the bear from the world by starving."
   ]
  },
  {
   "cell_type": "markdown",
   "metadata": {},
   "source": [
    "##### <span style=color:red>Code</span> "
   ]
  },
  {
   "cell_type": "markdown",
   "metadata": {},
   "source": [
    "**Important:** &nbsp; Write the Python code for your Bear class in the following code cell.  Do not delete or move this cell."
   ]
  },
  {
   "cell_type": "code",
   "execution_count": 21,
   "metadata": {
    "collapsed": true,
    "deletable": false,
    "nbgrader": {
     "checksum": "4caa2fe98c36ad7d876cb07eb412314c",
     "grade": true,
     "grade_id": "bear",
     "locked": false,
     "points": 7,
     "solution": true
    }
   },
   "outputs": [],
   "source": [
    "class Bear(Animal):\n",
    "    \n",
    "    survive_without_food= 10\n",
    "    breed_interval = 8\n",
    "    \n",
    "    def __init__(self, world, loc):\n",
    "        \n",
    "        super().__init__()\n",
    "        self.setWorld(world)\n",
    "        self.setX(loc[0])\n",
    "        self.setY(loc[1])\n",
    "        self._world.addThing(self, loc[0], loc[1])\n",
    "        self.starveTick = 0\n",
    "        self.bear_id = self._world.getNumBear()\n",
    "        \n",
    "    def tryToEat(self):\n",
    "        \n",
    "        adjprey = []\n",
    "        \n",
    "        for offset in offsetList:\n",
    "                newx = self.xpos + offset[0]\n",
    "                newy = self.ypos + offset[1]\n",
    "                if 0 <= newx < self._world.getMaxX() and 0 <= newy < self._world.getMaxY():\n",
    "                    if (not self._world.emptyLocation(newx, newy)) and isinstance(self._world.lookAtLocation(newx, newy), Fish):\n",
    "                        adjprey.append(self._world.lookAtLocation(newx, newy))\n",
    "                        \n",
    "        if len(adjprey) > 0:\n",
    "            randomprey = adjprey[random.randrange(len(adjprey))]\n",
    "            preyx = randomprey.getX()\n",
    "            preyy = randomprey.getY()\n",
    "            \n",
    "            self._world.delThing(randomprey)\n",
    "            self.survive_without_food == 0\n",
    "        else:\n",
    "            self.starveTick += 1\n",
    "            \n",
    "    def live(self):\n",
    "        \n",
    "        self.breedTick += 1\n",
    "        if self.breedTick >= self.breed_interval:\n",
    "            self.tryToBreed()\n",
    "            \n",
    "        self.tryToEat()\n",
    "        \n",
    "        if self.starveTick == self.survive_without_food:\n",
    "            self._world.delThing(self)\n",
    "        else:\n",
    "            self.move()\n",
    "            \n",
    "    def getStarve(self):\n",
    "        \n",
    "        return self.starve\n",
    "    \n",
    "    def getBreed(self):\n",
    "        \n",
    "        return self.breed\n",
    "    \n",
    "    def setStarve(self, x):\n",
    "        \n",
    "        self.starve = x\n",
    "        \n",
    "    def setBreed(self, x):\n",
    "        \n",
    "        self.breed = x"
   ]
  },
  {
   "cell_type": "markdown",
   "metadata": {},
   "source": [
    "##### <span style=\"color:red\">Autograder Tests:</span>"
   ]
  },
  {
   "cell_type": "markdown",
   "metadata": {},
   "source": [
    "**Important:** &nbsp;  the code cells in this section will be used by `nbgrader` to run automated tests.  Do not move, delete or alter these cells in any way."
   ]
  },
  {
   "cell_type": "code",
   "execution_count": 22,
   "metadata": {
    "deletable": false,
    "nbgrader": {
     "checksum": "02a09e90f9adc651f6c235e7b6d86f2b",
     "grade": true,
     "grade_id": "bear_test_1",
     "locked": true,
     "points": 2,
     "solution": false
    }
   },
   "outputs": [
    {
     "name": "stdout",
     "output_type": "stream",
     "text": [
      "[[None None None None None]\n",
      " [None <__main__.Bear object at 0x0000024DB9ADBF28> None None None]\n",
      " [None None None None None]\n",
      " [None None None None None]\n",
      " [None None None None None]]\n"
     ]
    },
    {
     "data": {
      "text/plain": [
       "[[None None None None None]\n",
       " [None '🐻1' None None None]\n",
       " [None None None None None]\n",
       " [None None None None None]\n",
       " [None None None None None]]"
      ]
     },
     "execution_count": 22,
     "metadata": {},
     "output_type": "execute_result"
    }
   ],
   "source": [
    "# Test the Bear constructor and location method\n",
    "w1 = World(5,5)\n",
    "b1 = Bear(w1, (1,1))\n",
    "assert len(w1.biota()) == 1\n",
    "assert b1.location() == (1,1)\n",
    "print(w1._grid)\n",
    "w1"
   ]
  },
  {
   "cell_type": "code",
   "execution_count": 23,
   "metadata": {
    "deletable": false,
    "nbgrader": {
     "checksum": "a93e64b15a61595e7c1320ed220d3f8f",
     "grade": true,
     "grade_id": "bear_test_2",
     "locked": true,
     "points": 2,
     "solution": false
    },
    "scrolled": true
   },
   "outputs": [
    {
     "name": "stdout",
     "output_type": "stream",
     "text": [
      "[[None None None None None]\n",
      " [None None None None None]\n",
      " [None None None <__main__.Bear object at 0x0000024DB9AC30F0> None]\n",
      " [None <__main__.Bear object at 0x0000024DB947FEF0> None None None]\n",
      " [None None None None None]]\n"
     ]
    },
    {
     "data": {
      "text/plain": [
       "[[None None None None None]\n",
       " [None None None None None]\n",
       " [None None None '🐻1' None]\n",
       " [None '🐻2' None None None]\n",
       " [None None None None None]]"
      ]
     },
     "execution_count": 23,
     "metadata": {},
     "output_type": "execute_result"
    }
   ],
   "source": [
    "# Repeat the reproduction test for Bears\n",
    "w2 = World(5,5)\n",
    "Bear.breed_interval = 1\n",
    "b2 = Bear(w2, (2,2))\n",
    "b2.live()\n",
    "assert len(w2.biota()) == 2\n",
    "Bear.breed_interval = 8\n",
    "print(w2._grid)\n",
    "w2"
   ]
  },
  {
   "cell_type": "code",
   "execution_count": 24,
   "metadata": {
    "deletable": false,
    "nbgrader": {
     "checksum": "9d958002c67155af5e43ba85a1b35fdc",
     "grade": true,
     "grade_id": "bear_test_3",
     "locked": true,
     "points": 2,
     "solution": false
    }
   },
   "outputs": [
    {
     "name": "stdout",
     "output_type": "stream",
     "text": [
      "[[None None None None None]\n",
      " [None <__main__.Fish object at 0x0000024DB947FC88> None None None]\n",
      " [None None <__main__.Bear object at 0x0000024DB9AD5A58> None None]\n",
      " [None None None <__main__.Fish object at 0x0000024DB9AD5AC8> None]\n",
      " [None None None None None]]\n"
     ]
    },
    {
     "data": {
      "text/plain": [
       "[[None None None None None]\n",
       " [None '🐻1' None None None]\n",
       " [None None None None None]\n",
       " [None None None '🐟2' None]\n",
       " [None None None None None]]"
      ]
     },
     "execution_count": 24,
     "metadata": {},
     "output_type": "execute_result"
    }
   ],
   "source": [
    "# Make fish for the bear to eat, count the number of objects after eating\n",
    "w3 = World(5,5)\n",
    "b3 = Bear(w3, (2,2))\n",
    "Fish(w3, (1,1))\n",
    "Fish(w3, (3,3))\n",
    "print(w3._grid)\n",
    "b3.live()\n",
    "assert len(w2.biota()) == 2\n",
    "w3"
   ]
  },
  {
   "cell_type": "code",
   "execution_count": 25,
   "metadata": {},
   "outputs": [
    {
     "name": "stdout",
     "output_type": "stream",
     "text": [
      "[None None None None None None <__main__.Fish object at 0x0000024DB9AD5DA0>\n",
      " None None None None None None None None None\n",
      " <__main__.Bear object at 0x0000024DB949D208> None None None None None None\n",
      " None None]\n",
      "[[None None None None None]\n",
      " [None <__main__.Fish object at 0x0000024DB9AD5DA0> None None None]\n",
      " [None None None None None]\n",
      " [None <__main__.Bear object at 0x0000024DB949D208> None None None]\n",
      " [None None None None None]]\n"
     ]
    },
    {
     "data": {
      "text/plain": [
       "[[None None None None None]\n",
       " [None '🐟1' None None None]\n",
       " [None None None None None]\n",
       " [None '🐻1' None None None]\n",
       " [None None None None None]]"
      ]
     },
     "execution_count": 25,
     "metadata": {},
     "output_type": "execute_result"
    }
   ],
   "source": [
    "# Make fish for the bear to eat, count the number of objects after eating\n",
    "w3 = World(5,5)\n",
    "b3 = Bear(w3, (2,2))\n",
    "Fish(w3, (1,1))\n",
    "Fish(w3, (3,3))\n",
    "b3.live()\n",
    "print(w3._thingList)\n",
    "print(w3._grid)\n",
    "assert len(w3.biota()) == 2\n",
    "w3"
   ]
  },
  {
   "cell_type": "code",
   "execution_count": 26,
   "metadata": {
    "deletable": false,
    "nbgrader": {
     "checksum": "0fedaf56b553ec43860c883ddf1cf6bb",
     "grade": true,
     "grade_id": "bear_test_4",
     "locked": true,
     "points": 2,
     "solution": false
    }
   },
   "outputs": [
    {
     "name": "stdout",
     "output_type": "stream",
     "text": [
      "[[None None None None None]\n",
      " [None None None None None]\n",
      " [None None <__main__.Bear object at 0x0000024DB9AD5E80> None None]\n",
      " [None None None None None]\n",
      " [None None None None None]]\n",
      "[[None None None None None]\n",
      " [None None None None None]\n",
      " [None None None None None]\n",
      " [None None None None None]\n",
      " [None None None None None]]\n"
     ]
    },
    {
     "data": {
      "text/plain": [
       "[[None None None None None]\n",
       " [None None None None None]\n",
       " [None None None None None]\n",
       " [None None None None None]\n",
       " [None None None None None]]"
      ]
     },
     "execution_count": 26,
     "metadata": {},
     "output_type": "execute_result"
    }
   ],
   "source": [
    "# Setting the survival limit to 1 should cause a Bear to starve \n",
    "w4 = World(5,5)\n",
    "Bear.survive_without_food = 1\n",
    "b4 = Bear(w4, (2,2))\n",
    "print(w4._grid)\n",
    "b4.live()\n",
    "print(w4._grid)\n",
    "assert len(w4.biota()) == 0\n",
    "w4"
   ]
  },
  {
   "cell_type": "code",
   "execution_count": 27,
   "metadata": {},
   "outputs": [],
   "source": [
    "Bear.survive_without_food = 10"
   ]
  },
  {
   "cell_type": "code",
   "execution_count": 28,
   "metadata": {
    "deletable": false,
    "nbgrader": {
     "checksum": "74f0e9c757408b2f460fd4c45b260cbe",
     "grade": true,
     "grade_id": "bear_test_5",
     "locked": true,
     "points": 2,
     "solution": false
    }
   },
   "outputs": [
    {
     "name": "stdout",
     "output_type": "stream",
     "text": [
      "[[None None None None None]\n",
      " [None None None None None]\n",
      " [None None <__main__.Bear object at 0x0000024DB9AEE5F8> None None]\n",
      " [None None None None None]\n",
      " [None None None None None]]\n",
      "[[None None None None None]\n",
      " [None None <__main__.Bear object at 0x0000024DB9AEE5F8> None None]\n",
      " [None None None None None]\n",
      " [None None None None None]\n",
      " [None None None None None]]\n"
     ]
    },
    {
     "data": {
      "text/plain": [
       "[[None None None None None]\n",
       " [None None '🐻1' None None]\n",
       " [None None None None None]\n",
       " [None None None None None]\n",
       " [None None None None None]]"
      ]
     },
     "execution_count": 28,
     "metadata": {},
     "output_type": "execute_result"
    }
   ],
   "source": [
    "# Repeat the move test for bears\n",
    "w5 = World(5,5)\n",
    "b5 = Bear(w5, (2,2))\n",
    "print(w5._grid)\n",
    "b5.move()\n",
    "print(w5._grid)\n",
    "r, c = b5.location()\n",
    "assert (r,c) != (2,2)\n",
    "assert abs(r-2) <= 1 and abs(c-2) <= 1\n",
    "w5"
   ]
  },
  {
   "cell_type": "markdown",
   "metadata": {
    "collapsed": true
   },
   "source": [
    "##  <span style=\"color:teal;\">The `wbf` Function (10 points)</span>"
   ]
  },
  {
   "cell_type": "markdown",
   "metadata": {},
   "source": [
    "Fill in the body of the `wbf` function so it returns a new World object with the specified number of rows and columns and with the specified number of Bear and Fish objects at random locations.\n",
    "\n",
    "When we grade your project we will call `wbf` to make a World object and then use the main loop (implemented by `step_system`) to run the simulation.\n",
    "\n",
    "**There is no documentation requirement for the `wbf` function.**"
   ]
  },
  {
   "cell_type": "code",
   "execution_count": 29,
   "metadata": {
    "deletable": false,
    "nbgrader": {
     "checksum": "6a1fa83ecd382a94da88d5ff79a91af4",
     "grade": true,
     "grade_id": "wbf",
     "locked": false,
     "points": 5,
     "solution": true
    }
   },
   "outputs": [],
   "source": [
    "def wbf(nrows, ncols, nbears, nfish):\n",
    "    '''\n",
    "    Return a new World object with the specified number of Bear and Fish objects.\n",
    "    '''\n",
    "    myworld = World(nrows, ncols)\n",
    "    myworld.draw()\n",
    "    \n",
    "    def random_location():\n",
    "        x = random.randrange(myworld.getMaxX())\n",
    "        y = random.randrange(myworld.getMaxY())\n",
    "        while not myworld.emptyLocation(x, y):\n",
    "            x = random.randrange(myworld.getMaxX())\n",
    "            y = random.randrange(myworld.getMaxY())\n",
    "        return (x, y)\n",
    "    \n",
    "    for bear in range(nbears):\n",
    "        Bear(myworld, random_location())\n",
    "        \n",
    "    for fish in range(nfish):\n",
    "        Fish(myworld, random_location())\n",
    "        \n",
    "    return myworld"
   ]
  },
  {
   "cell_type": "markdown",
   "metadata": {},
   "source": [
    "##### <span style=\"color:red\">Autograder Tests:</span>"
   ]
  },
  {
   "cell_type": "markdown",
   "metadata": {},
   "source": [
    "**Important:** &nbsp;  the code cells in this section will be used by `nbgrader` to run automated tests.  Do not move, delete or alter these cells in any way."
   ]
  },
  {
   "cell_type": "code",
   "execution_count": 30,
   "metadata": {
    "deletable": false,
    "nbgrader": {
     "checksum": "492deed158bde5b6474970e982aa60fe",
     "grade": true,
     "grade_id": "wbf_test",
     "locked": true,
     "points": 5,
     "solution": false
    }
   },
   "outputs": [],
   "source": [
    "w = wbf(10,10,3,12)\n",
    "\n",
    "dct = { Bear: 0, Fish: 0 }\n",
    "for x in w.biota():\n",
    "    dct[x.__class__] += 1\n",
    "\n",
    "assert dct[Bear] == 3\n",
    "assert dct[Fish] == 12"
   ]
  },
  {
   "cell_type": "markdown",
   "metadata": {
    "collapsed": true
   },
   "source": [
    "##  <span style=\"color:teal;\">The `step_system` Function</span>"
   ]
  },
  {
   "cell_type": "markdown",
   "metadata": {},
   "source": [
    "We've written this function for you.  It will run a single time step of the simulation.  Pass it a World object containing a grid populated with Bear and Fish objects and it will (a) see which animals survive, then (b) allow all the animals to move to a new location."
   ]
  },
  {
   "cell_type": "code",
   "execution_count": 31,
   "metadata": {
    "collapsed": true
   },
   "outputs": [],
   "source": [
    "def step_system(world):\n",
    "    for x in world.biota():\n",
    "        x.live()\n",
    "    for x in world.biota():\n",
    "        x.move()"
   ]
  },
  {
   "cell_type": "markdown",
   "metadata": {
    "collapsed": true
   },
   "source": [
    "##  <span style=\"color:teal;\">Experiments (10 points)</span>"
   ]
  },
  {
   "cell_type": "markdown",
   "metadata": {},
   "source": [
    "Run some experiments with the top level simulation loop and describe the results in the markdown cell below.  Some ideas of things to try:\n",
    "* The settings for the Bear class `breed_interval` and `survive_without_food` variables come from the textbook.  Will the world ever run out of bears with these settings?\n",
    "* Change the settings so `Bear.breed_interval` is larger than `Bear.survive_without_food`.  How does that change the outcome?\n",
    "* Set the `breed_interval` counter for the Fish class to a smaller number (e.g. 4) so the world has more fish.  What effect does that have?\n",
    "* Write a function that runs the simulation for a specified number of generations, or until there are no more objects left in the grid.  What combination of parameters leads to the largest number of time steps before the simulation halts?"
   ]
  },
  {
   "cell_type": "markdown",
   "metadata": {},
   "source": [
    "-It is possible that the world will run out of bears. It just depends on the random location they move to each time. "
   ]
  },
  {
   "cell_type": "markdown",
   "metadata": {},
   "source": [
    "-It means that over time, less bears will be reproduced because they must stay alive longer to reproduce."
   ]
  },
  {
   "cell_type": "markdown",
   "metadata": {},
   "source": [
    "-The only effect this has is that more fish are breeding and therefore more bears are eating, survivng longer, and reproducing more."
   ]
  },
  {
   "cell_type": "code",
   "execution_count": null,
   "metadata": {},
   "outputs": [],
   "source": [
    "w = wbf(10,10,3,12)\n",
    "num_generations = 10\n",
    "for generation in range(num_generations):\n",
    "    while len(w._thingList) > 0:\n",
    "        step_system(w)"
   ]
  },
  {
   "cell_type": "markdown",
   "metadata": {
    "collapsed": true,
    "deletable": false,
    "nbgrader": {
     "checksum": "cc54d46b405cd1c694c7a930f2ede888",
     "grade": true,
     "grade_id": "experiments",
     "locked": false,
     "points": 10,
     "solution": true
    }
   },
   "source": [
    "Documentation above"
   ]
  },
  {
   "cell_type": "markdown",
   "metadata": {
    "collapsed": true
   },
   "source": [
    "##  <span style=\"color:teal;\">Projects for Groups and/or Extra Credit</span>"
   ]
  },
  {
   "cell_type": "markdown",
   "metadata": {},
   "source": [
    "Here are some suggestions for ways to extend the simulation.  We will consider other types of extensions -- send a request to `conery@uoregon.edu` with your proposal.\n",
    "\n",
    "Groups with three people should implement two extensions.  Groups with two people can choose either extension, or do both for extra credit.\n",
    "\n",
    "* Implement the Plant class described in Section 10.7 of the textbook, and modify the Fish class so fish eat plants and die if they don't find enough food.\n",
    "\n",
    "* If you implement Plant, how does that affect the class hierarchy?  Is there an even more general class called Organism, with Plants and Animals subtypes of organism?\n",
    "\n",
    "* Experiment with data structures: make a second version of the World class, but use a list-of-lists approach to making the grid.  Which is more efficient, a list of lists or a numpy array?  Which scales better when larger worlds are used in the simulation?\n",
    "\n",
    "* Implement a GUI using `tkinter` that is similar to the Solar System GUI.  A canvas should display the world along with images for the Bear and Fish objects (you can download `Bear.gif` and `Fish.gif` from Canvas).  Use a spinbox or text entry box to specify the number of Bear and Fish objects and the number of time steps to run.  Include a Run button to start the simulation.\n"
   ]
  },
  {
   "cell_type": "code",
   "execution_count": 137,
   "metadata": {
    "collapsed": true
   },
   "outputs": [],
   "source": [
    "class Plant():\n",
    "    \n",
    "    breed_interval = 5\n",
    "    \n",
    "    def __init__(self, world, location):\n",
    "        \n",
    "        self.setWorld(world)\n",
    "        self._world.addThing(self, loc[0], loc[1])\n",
    "        \n",
    "    def live(self):\n",
    "        \n",
    "        self.breedTick +=1\n",
    "        if self.breedTick >= self.breed_interval:\n",
    "            self.tryToBreed()"
   ]
  },
  {
   "cell_type": "code",
   "execution_count": null,
   "metadata": {
    "collapsed": true
   },
   "outputs": [],
   "source": []
  }
 ],
 "metadata": {
  "anaconda-cloud": {},
  "kernelspec": {
   "display_name": "Python 3",
   "language": "python",
   "name": "python3"
  },
  "language_info": {
   "codemirror_mode": {
    "name": "ipython",
    "version": 3
   },
   "file_extension": ".py",
   "mimetype": "text/x-python",
   "name": "python",
   "nbconvert_exporter": "python",
   "pygments_lexer": "ipython3",
   "version": "3.6.5"
  }
 },
 "nbformat": 4,
 "nbformat_minor": 1
}
